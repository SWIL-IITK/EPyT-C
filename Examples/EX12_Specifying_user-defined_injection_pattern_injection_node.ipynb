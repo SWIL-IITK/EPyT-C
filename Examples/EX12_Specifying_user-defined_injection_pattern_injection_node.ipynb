{
 "cells": [
  {
   "cell_type": "code",
   "execution_count": null,
   "id": "9722a07e",
   "metadata": {},
   "outputs": [],
   "source": [
    "# Importing EPyT-C\n",
    "from epyt_c.main_epytc import create_epytc, execute_epytc\n",
    "import os"
   ]
  },
  {
   "cell_type": "code",
   "execution_count": null,
   "id": "cb67ee93",
   "metadata": {},
   "outputs": [],
   "source": [
    "print(\n",
    "    \"\"\"  EPyT-C Example 12\n",
    "\n",
    "   This example contains:\n",
    "    Import EPyT-C.\n",
    "    Specify the INP file name of the network to be simulated.\n",
    "    Specify the number of days for which water quality needs to be simulated.\n",
    "    Specify the time step in seconds for water quality simulation.\n",
    "    Add water quality parameter input values for the source nodes.\n",
    "    Specify a user-defined pattern for water quality input values for the\n",
    "    source nodes over time.\n",
    "    Specify the starting time for the injection corresponding to the source\n",
    "    nodes.\n",
    "    Specify the ending time for the injection corresponding to the source\n",
    "    nodes.\n",
    "    Specify the value for the injection pattern corresponding to the source\n",
    "    nodes.\n",
    "    Run EPyT-C for water quality analysis.\n",
    "\n",
    "        The results are saved as .XLSX files by default.\n",
    "\n",
    "\"\"\"\n",
    ")"
   ]
  },
  {
   "cell_type": "code",
   "execution_count": null,
   "id": "b6c574f0",
   "metadata": {},
   "outputs": [],
   "source": [
    "# create an epytc_class instace\n",
    "epytc = create_epytc()"
   ]
  },
  {
   "cell_type": "code",
   "execution_count": null,
   "id": "bc5975db",
   "metadata": {},
   "outputs": [],
   "source": [
    "# Specify the network name\n",
    "epytc.network_name = os.path.join(os.path.dirname(os.path.realpath(__file__)), \"..\", \"epyt_c\", \"Networks\", \"Net3.inp\")"
   ]
  },
  {
   "cell_type": "code",
   "execution_count": null,
   "id": "a7a1c1b8",
   "metadata": {},
   "outputs": [],
   "source": [
    "# Specify the simulation period (days)\n",
    "epytc.simulation_period_days = 10"
   ]
  },
  {
   "cell_type": "code",
   "execution_count": null,
   "id": "8828013b",
   "metadata": {},
   "outputs": [],
   "source": [
    "# Specify the simulation time step (seconds)\n",
    "epytc.simulation_time_step = 300"
   ]
  },
  {
   "cell_type": "code",
   "execution_count": null,
   "id": "f9498085",
   "metadata": {},
   "outputs": [],
   "source": [
    "# Add water quality at the source nodes\n",
    "epytc.reservoir_quality_matrix = [[1, 2, 40], [1, 2, 40]]"
   ]
  },
  {
   "cell_type": "code",
   "execution_count": null,
   "id": "c336980b",
   "metadata": {},
   "outputs": [],
   "source": [
    "# Specify the injection node\n",
    "epytc.injection_nodes_index = [21]"
   ]
  },
  {
   "cell_type": "code",
   "execution_count": null,
   "id": "a1dbde66",
   "metadata": {},
   "outputs": [],
   "source": [
    "# Add water quality at the injection node\n",
    "epytc.injection_nodes_quality_matrix = [[2, 0, 0]]"
   ]
  },
  {
   "cell_type": "code",
   "execution_count": null,
   "id": "d5d7b3c5",
   "metadata": {},
   "outputs": [],
   "source": [
    "\"\"\"By default, no variations is specified for water quality values for the\n",
    "injection node over time.\n",
    "To specify a user-defined temporal pattern for injection, use the following\n",
    "code:\"\"\""
   ]
  },
  {
   "cell_type": "code",
   "execution_count": null,
   "id": "7de745b9",
   "metadata": {},
   "outputs": [],
   "source": [
    "epytc.injection_node_injection_pattern = \"specific\""
   ]
  },
  {
   "cell_type": "code",
   "execution_count": null,
   "id": "d202f8d5",
   "metadata": {},
   "outputs": [],
   "source": [
    "\"\"\"For specifying a user-defined temporal pattern, the start and end time need\n",
    "to be specified.\"\"\""
   ]
  },
  {
   "cell_type": "code",
   "execution_count": null,
   "id": "99c84588",
   "metadata": {},
   "outputs": [],
   "source": [
    "\"\"\"To specify the starting time, use the following code:\"\"\""
   ]
  },
  {
   "cell_type": "code",
   "execution_count": null,
   "id": "9c5c83ab",
   "metadata": {},
   "outputs": [],
   "source": [
    "epytc.injection_node_injection_start_time = [[3]]"
   ]
  },
  {
   "cell_type": "code",
   "execution_count": null,
   "id": "7c8791d7",
   "metadata": {},
   "outputs": [],
   "source": [
    "\"\"\"It is now specified that the injection for the injection node (junction 121)\n",
    "will commence at the 4th hour every day. It may be noted that the base\n",
    "time period is selected as 1 day (by default).\"\"\""
   ]
  },
  {
   "cell_type": "code",
   "execution_count": null,
   "id": "7a8fe9ca",
   "metadata": {},
   "outputs": [],
   "source": [
    "\"\"\"To specify the ending time, use the following code:\"\"\""
   ]
  },
  {
   "cell_type": "code",
   "execution_count": null,
   "id": "31fb3956",
   "metadata": {},
   "outputs": [],
   "source": [
    "epytc.injection_node_injection_end_time = [[19]]"
   ]
  },
  {
   "cell_type": "code",
   "execution_count": null,
   "id": "b86078bd",
   "metadata": {},
   "outputs": [],
   "source": [
    "\"\"\"It is now specified that the injection for the injection node (junction 121)\n",
    "will end at the 20th hour every day.\"\"\""
   ]
  },
  {
   "cell_type": "code",
   "execution_count": null,
   "id": "2303a345",
   "metadata": {},
   "outputs": [],
   "source": [
    "\"\"\"To specify the value for the injection pattern, use the following code:\"\"\""
   ]
  },
  {
   "cell_type": "code",
   "execution_count": null,
   "id": "cceb123d",
   "metadata": {},
   "outputs": [],
   "source": [
    "epytc.injection_node_injection_input_value = [[1]]"
   ]
  },
  {
   "cell_type": "code",
   "execution_count": null,
   "id": "9c435a56",
   "metadata": {},
   "outputs": [],
   "source": [
    "\"\"\"It is now specified that the value for the injection patterns is 1 for both\n",
    "source nodes.\"\"\""
   ]
  },
  {
   "cell_type": "code",
   "execution_count": null,
   "id": "a96d6cb0",
   "metadata": {},
   "outputs": [],
   "source": [
    "# Executing EPyT-C\n",
    "execute_epytc(epytc)"
   ]
  }
 ],
 "metadata": {
  "jupytext": {
   "cell_metadata_filter": "-all",
   "main_language": "python",
   "notebook_metadata_filter": "-all"
  }
 },
 "nbformat": 4,
 "nbformat_minor": 5
}
