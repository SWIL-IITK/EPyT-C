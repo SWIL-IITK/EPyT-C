{
 "cells": [
  {
   "cell_type": "markdown",
   "id": "84eb6fe4",
   "metadata": {},
   "source": [
    "This example contains:\n",
    "- Import EPyT-C.\n",
    "- Specify the INP file name of the network to be simulated.\n",
    "- Specify the number of days for which water quality needs to be simulated.\n",
    "- Specify the time step in seconds for water quality simulation.\n",
    "- Add water quality parameter input values for the source nodes.\n",
    "- Specify the injection node.\n",
    "- Add water quality parameter input values for the injection node.\n",
    "- Specify a user-defined pattern for water quality input values for the\n",
    "injection node over time.\n",
    "- Specify the starting time for the injection corresponding to the injection\n",
    "node.\n",
    "- Specify the ending time for the injection corresponding to the injection\n",
    "node.\n",
    "- Specify the value for the injection pattern corresponding to the injection\n",
    "node.\n",
    "- Run EPyT-C for water quality analysis.\n",
    "\n",
    "The results are saved as .XLSX files by default."
   ]
  },
  {
   "cell_type": "code",
   "execution_count": 1,
   "id": "d12a8735",
   "metadata": {},
   "outputs": [],
   "source": [
    "# Importing EPyT-C\n",
    "import os\n",
    "from epytc import create_epytc, execute_epytc"
   ]
  },
  {
   "cell_type": "code",
   "execution_count": 2,
   "id": "ac78f7ae",
   "metadata": {},
   "outputs": [
    {
     "name": "stdout",
     "output_type": "stream",
     "text": [
      "Creating instance of EPyT-C with default values\n"
     ]
    }
   ],
   "source": [
    "# create an epytc_class instace\n",
    "epytc = create_epytc()"
   ]
  },
  {
   "cell_type": "code",
   "execution_count": null,
   "id": "e9bfa2f8",
   "metadata": {},
   "outputs": [],
   "source": [
    "root = os.path.dirname(os.path.realpath(__file__))\n",
    "network_name = os.path.join(root, \"..\", \"Networks\", \"Net3.inp\")\n",
    "epytc.network_name = network_name"
   ]
  },
  {
   "cell_type": "code",
   "execution_count": 4,
   "id": "1f51256a",
   "metadata": {},
   "outputs": [],
   "source": [
    "# Specify the simulation period (days)\n",
    "epytc.simulation_period_days = 10"
   ]
  },
  {
   "cell_type": "code",
   "execution_count": 5,
   "id": "8d292ad2",
   "metadata": {},
   "outputs": [],
   "source": [
    "# Specify the simulation time step (seconds)\n",
    "epytc.simulation_time_step = 300"
   ]
  },
  {
   "cell_type": "code",
   "execution_count": 6,
   "id": "4f944591",
   "metadata": {},
   "outputs": [],
   "source": [
    "# Add water quality at the source nodes\n",
    "epytc.reservoir_quality_matrix = [[1, 2, 40], [1, 2, 40]]"
   ]
  },
  {
   "cell_type": "markdown",
   "id": "4b6d1e15",
   "metadata": {},
   "source": [
    "By default, no variations is specified for water quality values for the\n",
    "source nodes over time.\n",
    "To specify a user-defined temporal pattern for injection, use the following\n",
    "code:"
   ]
  },
  {
   "cell_type": "code",
   "execution_count": 7,
   "id": "003ec8aa",
   "metadata": {},
   "outputs": [],
   "source": [
    "epytc.reservoir_injection_pattern = \"specific\""
   ]
  },
  {
   "cell_type": "markdown",
   "id": "7e7c302d",
   "metadata": {},
   "source": [
    "For specifying a user-defined temporal pattern, the start and end time need\n",
    "to be specified."
   ]
  },
  {
   "cell_type": "markdown",
   "id": "49d38086",
   "metadata": {},
   "source": [
    "To specify the starting time, use the following code:"
   ]
  },
  {
   "cell_type": "code",
   "execution_count": 8,
   "id": "78a28d79",
   "metadata": {},
   "outputs": [],
   "source": [
    "epytc.reservoir_injection_start_time = [[12], [0]]"
   ]
  },
  {
   "cell_type": "markdown",
   "id": "845af41d",
   "metadata": {},
   "source": [
    "It is now specified that the injection for the first source node (River)\n",
    "will commence at the 13th hour every day, and the same for the second source\n",
    "node (Lake) will start at the 1st hour. It may be noted that the base\n",
    "time period is selected as 1 day (by default). To change the base time period,\n",
    "the following code may be used:\n",
    "    `epytc.base_period_days = N`, where N is in days"
   ]
  },
  {
   "cell_type": "markdown",
   "id": "1ce73adf",
   "metadata": {},
   "source": [
    "To specify the ending time, use the following code:"
   ]
  },
  {
   "cell_type": "code",
   "execution_count": 9,
   "id": "186a5cf6",
   "metadata": {},
   "outputs": [],
   "source": [
    "epytc.reservoir_injection_end_time = [[23], [11]]"
   ]
  },
  {
   "cell_type": "markdown",
   "id": "f4da9875",
   "metadata": {},
   "source": [
    "It is now specified that the injections for the first source node (River)\n",
    "will end at the 24th hour while the same for the second source node (Lake) will\n",
    "end at the 12th hour every day."
   ]
  },
  {
   "cell_type": "markdown",
   "id": "725e15e5",
   "metadata": {},
   "source": [
    "To specify the value for the injection pattern, use the following code:"
   ]
  },
  {
   "cell_type": "code",
   "execution_count": 10,
   "id": "8d80563e",
   "metadata": {},
   "outputs": [],
   "source": [
    "epytc.reservoir_injection_input_value = [[1], [1]]"
   ]
  },
  {
   "cell_type": "markdown",
   "id": "f9339dda",
   "metadata": {},
   "source": [
    "It is now specified that the value for the injection patterns is 1 for both\n",
    "source nodes."
   ]
  },
  {
   "cell_type": "code",
   "execution_count": 11,
   "id": "9c3c42ab",
   "metadata": {},
   "outputs": [
    {
     "name": "stdout",
     "output_type": "stream",
     "text": [
      "EPyT-C loaded for execution...\n",
      "Chlorine decay and trihalomethanes formation module loaded.\n",
      "Reactive species (bulk):\n",
      "Chlorine (mg-Cl/L)\n",
      "TOC (mg-C/L)\n",
      "THMs (ug-THM/L)\n",
      "EPANET version 20200 loaded (EPyT version 1.0.7).\n",
      "Input File Net3.inp loaded successfully.\n",
      "\n",
      "Reservoir 1: River\n",
      "Reservoir 2: Lake\n",
      "Tank 1: 1\n",
      "Tank 2: 2\n",
      "Tank 3: 3\n",
      "Pump 1: 10\n",
      "Pump 2: 335\n",
      "Number of iterations: 1\n",
      "Number of days for which water quality is simulated: 10\n",
      "Time period for water quality simulation: 300 seconds\n",
      "Number of water quality simulation steps: 2881\n",
      "Number of water quality parameters in the MSRT model: 3\n",
      "Number of bulk phase water quality paraneters: 3\n",
      "Number of wall phase water quality paraneters: 0\n",
      "Reservoir quality updated.\n",
      "Injection nodes quality updated.\n",
      "Water quality simulation (Iteration 1) is starting...\n",
      "Hydraulic analysis simulation period: 10 days\n",
      "Time period for hydraulic analysis: 3600 seconds\n",
      "Analysis with EPANET completed...\n",
      "Information successfully stored.\n",
      "Filtering hydraulic analysis report.\n",
      "Water quality simulation started...\n",
      "Water quality simulation step (Iteration 1/ 1): 1 (/ 2881)\n",
      "Water quality simulation step (Iteration 1/ 1): 2 (/ 2881)\n",
      "Water quality simulation step (Iteration 1/ 1): 3 (/ 2881)\n",
      "Water quality simulation step (Iteration 1/ 1): 4 (/ 2881)\n",
      "Water quality simulation step (Iteration 1/ 1): 5 (/ 2881)\n",
      "Water quality simulation step (Iteration 1/ 1): 6 (/ 2881)\n",
      "Water quality simulation step (Iteration 1/ 1): 7 (/ 2881)\n",
      "Water quality simulation step (Iteration 1/ 1): 8 (/ 2881)\n",
      "Water quality simulation step (Iteration 1/ 1): 9 (/ 2881)\n",
      "Water quality simulation step (Iteration 1/ 1): 10 (/ 2881)\n",
      "Water quality simulation step (Iteration 1/ 1): 11 (/ 2881)\n",
      "Water quality simulation step (Iteration 1/ 1): 12 (/ 2881)\n",
      "Water quality simulation step (Iteration 1/ 1): 13 (/ 2881)\n",
      "Water quality simulation step (Iteration 1/ 1): 14 (/ 2881)\n",
      "Water quality simulation step (Iteration 1/ 1): 15 (/ 2881)\n",
      "Water quality simulation step (Iteration 1/ 1): 16 (/ 2881)\n",
      "Water quality simulation step (Iteration 1/ 1): 17 (/ 2881)\n",
      "Water quality simulation step (Iteration 1/ 1): 18 (/ 2881)\n",
      "Water quality simulation step (Iteration 1/ 1): 19 (/ 2881)\n",
      "Water quality simulation step (Iteration 1/ 1): 20 (/ 2881)\n",
      "Water quality simulation step (Iteration 1/ 1): 21 (/ 2881)\n",
      "Water quality simulation step (Iteration 1/ 1): 22 (/ 2881)\n",
      "Water quality simulation step (Iteration 1/ 1): 23 (/ 2881)\n",
      "Water quality simulation step (Iteration 1/ 1): 24 (/ 2881)\n",
      "Water quality simulation step (Iteration 1/ 1): 25 (/ 2881)\n",
      "Water quality simulation step (Iteration 1/ 1): 26 (/ 2881)\n",
      "Water quality simulation step (Iteration 1/ 1): 27 (/ 2881)\n",
      "Water quality simulation step (Iteration 1/ 1): 28 (/ 2881)\n",
      "Water quality simulation step (Iteration 1/ 1): 29 (/ 2881)\n",
      "Water quality simulation step (Iteration 1/ 1): 30 (/ 2881)\n",
      "Water quality simulation step (Iteration 1/ 1): 31 (/ 2881)\n",
      "Water quality simulation step (Iteration 1/ 1): 32 (/ 2881)\n",
      "Water quality simulation step (Iteration 1/ 1): 33 (/ 2881)\n",
      "Water quality simulation step (Iteration 1/ 1): 34 (/ 2881)\n",
      "Water quality simulation step (Iteration 1/ 1): 35 (/ 2881)\n",
      "Water quality simulation step (Iteration 1/ 1): 36 (/ 2881)\n",
      "Water quality simulation step (Iteration 1/ 1): 37 (/ 2881)\n",
      "Water quality simulation step (Iteration 1/ 1): 38 (/ 2881)\n",
      "Water quality simulation step (Iteration 1/ 1): 39 (/ 2881)\n",
      "Water quality simulation step (Iteration 1/ 1): 40 (/ 2881)\n",
      "Water quality simulation step (Iteration 1/ 1): 41 (/ 2881)\n",
      "Water quality simulation step (Iteration 1/ 1): 42 (/ 2881)\n",
      "Water quality simulation step (Iteration 1/ 1): 43 (/ 2881)\n",
      "Water quality simulation step (Iteration 1/ 1): 44 (/ 2881)\n",
      "Water quality simulation step (Iteration 1/ 1): 45 (/ 2881)\n",
      "Water quality simulation step (Iteration 1/ 1): 46 (/ 2881)\n",
      "Water quality simulation step (Iteration 1/ 1): 47 (/ 2881)\n",
      "Water quality simulation step (Iteration 1/ 1): 48 (/ 2881)\n",
      "Water quality simulation step (Iteration 1/ 1): 49 (/ 2881)\n",
      "Water quality simulation step (Iteration 1/ 1): 50 (/ 2881)\n",
      "Water quality simulation step (Iteration 1/ 1): 51 (/ 2881)\n",
      "Water quality simulation step (Iteration 1/ 1): 52 (/ 2881)\n",
      "Water quality simulation step (Iteration 1/ 1): 53 (/ 2881)\n",
      "Water quality simulation step (Iteration 1/ 1): 54 (/ 2881)\n"
     ]
    },
    {
     "ename": "KeyboardInterrupt",
     "evalue": "",
     "output_type": "error",
     "traceback": [
      "\u001b[1;31m---------------------------------------------------------------------------\u001b[0m",
      "\u001b[1;31mKeyboardInterrupt\u001b[0m                         Traceback (most recent call last)",
      "Cell \u001b[1;32mIn[11], line 2\u001b[0m\n\u001b[0;32m      1\u001b[0m \u001b[38;5;66;03m# Executing EPyT-C\u001b[39;00m\n\u001b[1;32m----> 2\u001b[0m \u001b[43mexecute_epytc\u001b[49m\u001b[43m(\u001b[49m\u001b[43mepytc\u001b[49m\u001b[43m)\u001b[49m\n",
      "File \u001b[1;32m~\\Documents\\GitHub\\EPyT-C\\epyt_c\\main_epytc.py:47\u001b[0m, in \u001b[0;36mexecute_epytc\u001b[1;34m(epytc)\u001b[0m\n\u001b[0;32m     45\u001b[0m \u001b[38;5;28;01mdef\u001b[39;00m \u001b[38;5;21mexecute_epytc\u001b[39m(epytc: epytc_class):\n\u001b[0;32m     46\u001b[0m     \u001b[38;5;28mprint\u001b[39m(\u001b[38;5;124m\"\u001b[39m\u001b[38;5;124mEPyT-C loaded for execution...\u001b[39m\u001b[38;5;124m\"\u001b[39m)\n\u001b[1;32m---> 47\u001b[0m     \u001b[43mrun_epytc\u001b[49m\u001b[43m(\u001b[49m\u001b[43mepytc\u001b[49m\u001b[43m)\u001b[49m\n",
      "File \u001b[1;32m~\\Documents\\GitHub\\EPyT-C\\epyt_c\\run_epyt_c.py:411\u001b[0m, in \u001b[0;36mrun_epytc\u001b[1;34m(epytc)\u001b[0m\n\u001b[0;32m    409\u001b[0m                     \u001b[38;5;28;01mfor\u001b[39;00m sp \u001b[38;5;129;01min\u001b[39;00m \u001b[38;5;28mrange\u001b[39m(wq_parameter_num):\n\u001b[0;32m    410\u001b[0m                         link_conc_array_a[sp][i][p] \u001b[38;5;241m=\u001b[39m link_conc_array_a[sp][i][p] \u001b[38;5;241m+\u001b[39m delta[sp]\n\u001b[1;32m--> 411\u001b[0m             link_conc_array_a[link_conc_array_a \u001b[38;5;241m<\u001b[39m \u001b[38;5;241m0\u001b[39m] \u001b[38;5;241m=\u001b[39m \u001b[38;5;241m0\u001b[39m\n\u001b[0;32m    412\u001b[0m \u001b[38;5;28;01mif\u001b[39;00m count_links_lagrangian \u001b[38;5;241m!=\u001b[39m (num_links \u001b[38;5;241m-\u001b[39m num_omitted_links):\n\u001b[0;32m    413\u001b[0m     \u001b[38;5;28mprint\u001b[39m(\u001b[38;5;124m\"\u001b[39m\u001b[38;5;124mError in Lagrangian stage dedicated to pipes!\u001b[39m\u001b[38;5;124m\"\u001b[39m)\n",
      "\u001b[1;31mKeyboardInterrupt\u001b[0m: "
     ]
    }
   ],
   "source": [
    "# Executing EPyT-C\n",
    "execute_epytc(epytc)"
   ]
  }
 ],
 "metadata": {
  "jupytext": {
   "cell_metadata_filter": "-all",
   "main_language": "python",
   "notebook_metadata_filter": "-all"
  },
  "kernelspec": {
   "display_name": "Python 3 (ipykernel)",
   "language": "python",
   "name": "python3"
  },
  "language_info": {
   "codemirror_mode": {
    "name": "ipython",
    "version": 3
   },
   "file_extension": ".py",
   "mimetype": "text/x-python",
   "name": "python",
   "nbconvert_exporter": "python",
   "pygments_lexer": "ipython3",
   "version": "3.12.1"
  }
 },
 "nbformat": 4,
 "nbformat_minor": 5
}
