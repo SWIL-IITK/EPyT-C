{
 "cells": [
  {
   "cell_type": "markdown",
   "id": "84eb6fe4",
   "metadata": {},
   "source": [
    "This example contains:\n",
    "- Import EPyT-C.\n",
    "- Specify the INP file name of the network to be simulated.\n",
    "- Specify the number of days for which water quality needs to be simulated.\n",
    "- Specify the time step in seconds for water quality simulation.\n",
    "- Add water quality parameter input values for the source nodes.\n",
    "- Specify the injection node.\n",
    "- Add water quality parameter input values for the injection node.\n",
    "- Specify a user-defined pattern for water quality input values for the\n",
    "injection node over time.\n",
    "- Specify the starting time for the injection corresponding to the injection\n",
    "node.\n",
    "- Specify the ending time for the injection corresponding to the injection\n",
    "node.\n",
    "- Specify the value for the injection pattern corresponding to the injection\n",
    "node.\n",
    "- Run EPyT-C for water quality analysis.\n",
    "\n",
    "The results are saved as .XLSX files by default."
   ]
  },
  {
   "cell_type": "code",
   "execution_count": null,
   "id": "d12a8735",
   "metadata": {},
   "outputs": [],
   "source": [
    "# Importing EPyT-C\n",
    "from epyt_c.main_epytc import create_epytc, execute_epytc\n",
    "import os"
   ]
  },
  {
   "cell_type": "code",
   "execution_count": null,
   "id": "ac78f7ae",
   "metadata": {},
   "outputs": [],
   "source": [
    "# create an epytc_class instace\n",
    "epytc = create_epytc()"
   ]
  },
  {
   "cell_type": "code",
   "execution_count": null,
   "id": "68083ebb",
   "metadata": {},
   "outputs": [],
   "source": [
    "# Specify the network name\n",
    "epytc.network_name = os.path.join(os.getcwd(), \"..\", \"epyt_c\", \"Networks\", \"Net3.inp\")"
   ]
  },
  {
   "cell_type": "code",
   "execution_count": null,
   "id": "1f51256a",
   "metadata": {},
   "outputs": [],
   "source": [
    "# Specify the simulation period (days)\n",
    "epytc.simulation_period_days = 10"
   ]
  },
  {
   "cell_type": "code",
   "execution_count": null,
   "id": "8d292ad2",
   "metadata": {},
   "outputs": [],
   "source": [
    "# Specify the simulation time step (seconds)\n",
    "epytc.simulation_time_step = 300"
   ]
  },
  {
   "cell_type": "code",
   "execution_count": null,
   "id": "4f944591",
   "metadata": {},
   "outputs": [],
   "source": [
    "# Add water quality at the source nodes\n",
    "epytc.reservoir_quality_matrix = [[1, 2, 40], [1, 2, 40]]"
   ]
  },
  {
   "cell_type": "markdown",
   "id": "4b6d1e15",
   "metadata": {},
   "source": [
    "By default, no variations is specified for water quality values for the\n",
    "source nodes over time.\n",
    "To specify a user-defined temporal pattern for injection, use the following\n",
    "code:"
   ]
  },
  {
   "cell_type": "code",
   "execution_count": null,
   "id": "003ec8aa",
   "metadata": {},
   "outputs": [],
   "source": [
    "epytc.reservoir_injection_pattern = \"specific\""
   ]
  },
  {
   "cell_type": "markdown",
   "id": "7e7c302d",
   "metadata": {},
   "source": [
    "For specifying a user-defined temporal pattern, the start and end time need\n",
    "to be specified."
   ]
  },
  {
   "cell_type": "markdown",
   "id": "49d38086",
   "metadata": {},
   "source": [
    "To specify the starting time, use the following code:"
   ]
  },
  {
   "cell_type": "code",
   "execution_count": null,
   "id": "78a28d79",
   "metadata": {},
   "outputs": [],
   "source": [
    "epytc.reservoir_injection_start_time = [[12], [0]]"
   ]
  },
  {
   "cell_type": "markdown",
   "id": "845af41d",
   "metadata": {},
   "source": [
    "It is now specified that the injection for the first source node (River)\n",
    "will commence at the 13th hour every day, and the same for the second source\n",
    "node (Lake) will start at the 1st hour. It may be noted that the base\n",
    "time period is selected as 1 day (by default). To change the base time period,\n",
    "the following code may be used:\n",
    "    `epytc.base_period_days = N`, where N is in days"
   ]
  },
  {
   "cell_type": "markdown",
   "id": "1ce73adf",
   "metadata": {},
   "source": [
    "To specify the ending time, use the following code:"
   ]
  },
  {
   "cell_type": "code",
   "execution_count": null,
   "id": "186a5cf6",
   "metadata": {},
   "outputs": [],
   "source": [
    "epytc.reservoir_injection_end_time = [[23], [11]]"
   ]
  },
  {
   "cell_type": "markdown",
   "id": "f4da9875",
   "metadata": {},
   "source": [
    "It is now specified that the injections for the first source node (River)\n",
    "will end at the 24th hour while the same for the second source node (Lake) will\n",
    "end at the 12th hour every day."
   ]
  },
  {
   "cell_type": "markdown",
   "id": "725e15e5",
   "metadata": {},
   "source": [
    "To specify the value for the injection pattern, use the following code:"
   ]
  },
  {
   "cell_type": "code",
   "execution_count": null,
   "id": "8d80563e",
   "metadata": {},
   "outputs": [],
   "source": [
    "epytc.reservoir_injection_input_value = [[1], [1]]"
   ]
  },
  {
   "cell_type": "markdown",
   "id": "f9339dda",
   "metadata": {},
   "source": [
    "It is now specified that the value for the injection patterns is 1 for both\n",
    "source nodes."
   ]
  },
  {
   "cell_type": "code",
   "execution_count": null,
   "id": "9c3c42ab",
   "metadata": {},
   "outputs": [],
   "source": [
    "# Executing EPyT-C\n",
    "execute_epytc(epytc)"
   ]
  }
 ],
 "metadata": {
  "jupytext": {
   "cell_metadata_filter": "-all",
   "main_language": "python",
   "notebook_metadata_filter": "-all"
  },
  "language_info": {
   "name": "python"
  }
 },
 "nbformat": 4,
 "nbformat_minor": 5
}
