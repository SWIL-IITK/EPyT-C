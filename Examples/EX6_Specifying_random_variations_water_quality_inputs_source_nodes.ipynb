{
 "cells": [
  {
   "cell_type": "markdown",
   "id": "f57b3ec7",
   "metadata": {},
   "source": [
    "This example contains:\n",
    "- Import EPyT-C.\n",
    "- Specify the INP file name of the network to be simulated.\n",
    "- Specify the number of Monte Carlo simulations to be performed.\n",
    "- Specify the number of days for which water quality needs to be simulated.\n",
    "- Specify the time step in seconds for water quality simulation.\n",
    "- Add water quality parameter input values for the source nodes.\n",
    "- Specify the type of variations in the water quality values for the source nodes over iterations.\n",
    "- Specify the range (%) of random variations in the water quality values for the source nodes over iterations.\n",
    "- Run EPyT-C for water quality analysis.\n",
    "\n",
    "The results are saved as .XLSX files by default."
   ]
  },
  {
   "cell_type": "code",
   "execution_count": null,
   "id": "d11e5a42",
   "metadata": {},
   "outputs": [],
   "source": [
    "# Importing EPyT-C\n",
    "from epyt_c.main_epytc import create_epytc, execute_epytc\n",
    "import os"
   ]
  },
  {
   "cell_type": "code",
   "execution_count": null,
   "id": "30dd2e36",
   "metadata": {},
   "outputs": [],
   "source": [
    "# create an epytc_class instace\n",
    "epytc = create_epytc()"
   ]
  },
  {
   "cell_type": "code",
   "execution_count": null,
   "id": "a885d5f1",
   "metadata": {},
   "outputs": [],
   "source": [
    "# Specify the network name\n",
    "epytc.network_name = os.path.join(os.getcwd(), \"..\", \"epyt_c\", \"Networks\", \"Net3.inp\")"
   ]
  },
  {
   "cell_type": "code",
   "execution_count": null,
   "id": "33b01ed3",
   "metadata": {},
   "outputs": [],
   "source": [
    "# Sspecify the number of simulations\n",
    "epytc.maximum_iterations_required = 50"
   ]
  },
  {
   "cell_type": "code",
   "execution_count": null,
   "id": "007bec20",
   "metadata": {},
   "outputs": [],
   "source": [
    "# Specify the simulation period (days)\n",
    "epytc.simulation_period_days = 10"
   ]
  },
  {
   "cell_type": "code",
   "execution_count": null,
   "id": "6e78e408",
   "metadata": {},
   "outputs": [],
   "source": [
    "# Specify the simulation time step (seconds)\n",
    "epytc.simulation_time_step = 300"
   ]
  },
  {
   "cell_type": "code",
   "execution_count": null,
   "id": "285a9497",
   "metadata": {},
   "outputs": [],
   "source": [
    "# Add water quality at the source nodes\n",
    "epytc.reservoir_quality_matrix = [[1, 2, 40], [1, 2, 40]]"
   ]
  },
  {
   "cell_type": "markdown",
   "id": "e740fb63",
   "metadata": {},
   "source": [
    "By default, no variations is specified for water quality values for the\n",
    "source nodes over iterations.\n",
    "To specify random variations, use the following code:"
   ]
  },
  {
   "cell_type": "code",
   "execution_count": null,
   "id": "757506cc",
   "metadata": {},
   "outputs": [],
   "source": [
    "epytc.reservoir_quality_pattern = \"rand\""
   ]
  },
  {
   "cell_type": "markdown",
   "id": "a4b739ca",
   "metadata": {},
   "source": [
    "Random variations to the water water quality values for the source nodes\n",
    "over iterations has been now specified."
   ]
  },
  {
   "cell_type": "markdown",
   "id": "2ff5e026",
   "metadata": {},
   "source": [
    "The defualt range (%) of variations specified for water quality values for\n",
    "the source nodes over iterations is 0.\n",
    "To specify a value for the range, use the following code:"
   ]
  },
  {
   "cell_type": "code",
   "execution_count": null,
   "id": "de0fe04d",
   "metadata": {},
   "outputs": [],
   "source": [
    "epytc.reservoir_quality_pattern_random_variability = 0.25"
   ]
  },
  {
   "cell_type": "markdown",
   "id": "11387873",
   "metadata": {},
   "source": [
    "+/-25% random variations to the water water quality values for the source\n",
    "nodes over iterations has been now specified."
   ]
  },
  {
   "cell_type": "code",
   "execution_count": null,
   "id": "f0e8919d",
   "metadata": {},
   "outputs": [],
   "source": [
    "# Executing EPyT-C\n",
    "execute_epytc(epytc)"
   ]
  }
 ],
 "metadata": {
  "jupytext": {
   "cell_metadata_filter": "-all",
   "main_language": "python",
   "notebook_metadata_filter": "-all"
  },
  "language_info": {
   "name": "python"
  }
 },
 "nbformat": 4,
 "nbformat_minor": 5
}
