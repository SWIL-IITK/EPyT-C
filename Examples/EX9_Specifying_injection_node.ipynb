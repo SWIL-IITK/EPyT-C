{
 "cells": [
  {
   "cell_type": "markdown",
   "id": "13506762",
   "metadata": {},
   "source": [
    "This example contains:\n",
    "- Import EPyT-C.\n",
    "- Specify the INP file name of the network to be simulated.\n",
    "- Specify the number of days for which water quality needs to be simulated.\n",
    "- Specify the time step in seconds for water quality simulation.\n",
    "- Add water quality parameter input values for the source nodes.\n",
    "- Specify the injection node.\n",
    "- Add water quality parameter input values for the injection node.\n",
    "- Run EPyT-C for water quality analysis.\n",
    "\n",
    "The results are saved as .XLSX files by default."
   ]
  },
  {
   "cell_type": "code",
   "execution_count": 1,
   "id": "beaed152",
   "metadata": {},
   "outputs": [],
   "source": [
    "# Importing EPyT-C\n",
    "import os\n",
    "from epyt_c.main_epytc import create_epytc, execute_epytc"
   ]
  },
  {
   "cell_type": "code",
   "execution_count": 2,
   "id": "24679d10",
   "metadata": {},
   "outputs": [
    {
     "name": "stdout",
     "output_type": "stream",
     "text": [
      "Creating instance of EPyT-C with default values\n"
     ]
    }
   ],
   "source": [
    "# create an epytc_class instace\n",
    "epytc = create_epytc()"
   ]
  },
  {
   "cell_type": "code",
   "execution_count": 3,
   "id": "76ed18eb",
   "metadata": {},
   "outputs": [],
   "source": [
    "# Enter the full path to the INP file below after 'r'\n",
    "path_name = r\"C:\\Users\\Abhijith\\Documents\\GitHub\\EPyT-C\\Networks\\Net3.inp\"\n",
    "epytc.network_name = os.path.normpath(path_name)"
   ]
  },
  {
   "cell_type": "code",
   "execution_count": 4,
   "id": "92f4670e",
   "metadata": {},
   "outputs": [],
   "source": [
    "# Specify the simulation period (days)\n",
    "epytc.simulation_period_days = 10"
   ]
  },
  {
   "cell_type": "code",
   "execution_count": 5,
   "id": "2b03827b",
   "metadata": {},
   "outputs": [],
   "source": [
    "# Specify the simulation time step (seconds)\n",
    "epytc.simulation_time_step = 300"
   ]
  },
  {
   "cell_type": "code",
   "execution_count": 6,
   "id": "7f6297ef",
   "metadata": {},
   "outputs": [],
   "source": [
    "# Add water quality at the source nodes\n",
    "epytc.reservoir_quality_matrix = [[1, 2, 40], [1, 2, 40]]"
   ]
  },
  {
   "cell_type": "markdown",
   "id": "bb188d7a",
   "metadata": {},
   "source": [
    "By default, no injection node is specified in EPyT-C. To specify injection\n",
    "node, use the following code:"
   ]
  },
  {
   "cell_type": "code",
   "execution_count": 7,
   "id": "f4e5a47c",
   "metadata": {},
   "outputs": [],
   "source": [
    "epytc.injection_nodes_index = [21]"
   ]
  },
  {
   "cell_type": "markdown",
   "id": "eecbd5ba",
   "metadata": {},
   "source": [
    "The junction '121' with index 21 is now specified as the injection node."
   ]
  },
  {
   "cell_type": "markdown",
   "id": "61b4fecf",
   "metadata": {},
   "source": [
    "To specify the water quality at the injection node, use the following\n",
    "code:"
   ]
  },
  {
   "cell_type": "code",
   "execution_count": 8,
   "id": "d07eb06e",
   "metadata": {
    "lines_to_next_cell": 2
   },
   "outputs": [],
   "source": [
    "epytc.injection_nodes_quality_matrix = [[2, 0, 0]]"
   ]
  },
  {
   "cell_type": "markdown",
   "id": "3ac6368f",
   "metadata": {
    "lines_to_next_cell": 2
   },
   "source": [
    "It is now specified that at injection node, i.e., junction '121', the\n",
    "chlorine concentration will be always 2 mg/L. In other words, junction '121'\n",
    "acts like like a booster node for chloirne."
   ]
  },
  {
   "cell_type": "code",
   "execution_count": 9,
   "id": "860250fb",
   "metadata": {},
   "outputs": [
    {
     "name": "stdout",
     "output_type": "stream",
     "text": [
      "EPyT-C loaded for execution...\n",
      "Chlorine decay and trihalomethanes formation module loaded.\n",
      "Reactive species (bulk):\n",
      "Chlorine (mg-Cl/L)\n",
      "TOC (mg-C/L)\n",
      "THMs (ug-THM/L)\n",
      "EPANET version 20200 loaded (EPyT version 1.0.7).\n",
      "Input File Net3.inp loaded successfully.\n",
      "\n",
      "Reservoir 1: River\n",
      "Reservoir 2: Lake\n",
      "Tank 1: 1\n",
      "Tank 2: 2\n",
      "Tank 3: 3\n",
      "Pump 1: 10\n",
      "Pump 2: 335\n",
      "Number of iterations: 1\n",
      "Number of days for which water quality is simulated: 10\n",
      "Time period for water quality simulation: 300 seconds\n",
      "Number of water quality simulation steps: 2881\n",
      "Number of water quality parameters in the MSRT model: 3\n",
      "Number of bulk phase water quality paraneters: 3\n",
      "Number of wall phase water quality paraneters: 0\n",
      "Reservoir quality updated.\n",
      "Reservoir quality updated.\n",
      "Injection nodes quality updated.\n",
      "Water quality simulation (Iteration 1) is starting...\n",
      "Hydraulic analysis simulation period: 10 days\n",
      "Time period for hydraulic analysis: 3600 seconds\n"
     ]
    },
    {
     "ename": "KeyboardInterrupt",
     "evalue": "",
     "output_type": "error",
     "traceback": [
      "\u001b[1;31m---------------------------------------------------------------------------\u001b[0m",
      "\u001b[1;31mKeyboardInterrupt\u001b[0m                         Traceback (most recent call last)",
      "\u001b[1;32m~\\AppData\\Local\\Temp\\ipykernel_23584\\1615766681.py\u001b[0m in \u001b[0;36m?\u001b[1;34m()\u001b[0m\n\u001b[0;32m      1\u001b[0m \u001b[1;31m# Executing EPyT-C\u001b[0m\u001b[1;33m\u001b[0m\u001b[1;33m\u001b[0m\u001b[0m\n\u001b[1;32m----> 2\u001b[1;33m \u001b[0mexecute_epytc\u001b[0m\u001b[1;33m(\u001b[0m\u001b[0mepytc\u001b[0m\u001b[1;33m)\u001b[0m\u001b[1;33m\u001b[0m\u001b[1;33m\u001b[0m\u001b[0m\n\u001b[0m",
      "\u001b[1;32m~\\Documents\\GitHub\\EPyT-C\\epyt_c\\main_epytc.py\u001b[0m in \u001b[0;36m?\u001b[1;34m(epytc)\u001b[0m\n\u001b[0;32m     45\u001b[0m \u001b[1;32mdef\u001b[0m \u001b[0mexecute_epytc\u001b[0m\u001b[1;33m(\u001b[0m\u001b[0mepytc\u001b[0m\u001b[1;33m:\u001b[0m \u001b[0mepytc_class\u001b[0m\u001b[1;33m)\u001b[0m\u001b[1;33m:\u001b[0m\u001b[1;33m\u001b[0m\u001b[1;33m\u001b[0m\u001b[0m\n\u001b[0;32m     46\u001b[0m     \u001b[0mprint\u001b[0m\u001b[1;33m(\u001b[0m\u001b[1;34m\"EPyT-C loaded for execution...\"\u001b[0m\u001b[1;33m)\u001b[0m\u001b[1;33m\u001b[0m\u001b[1;33m\u001b[0m\u001b[0m\n\u001b[1;32m---> 47\u001b[1;33m     \u001b[0mrun_epytc\u001b[0m\u001b[1;33m(\u001b[0m\u001b[0mepytc\u001b[0m\u001b[1;33m)\u001b[0m\u001b[1;33m\u001b[0m\u001b[1;33m\u001b[0m\u001b[0m\n\u001b[0m",
      "\u001b[1;32m~\\Documents\\GitHub\\EPyT-C\\epyt_c\\run_epyt_c.py\u001b[0m in \u001b[0;36m?\u001b[1;34m(epytc)\u001b[0m\n\u001b[0;32m    132\u001b[0m         \u001b[0mh_sim_time_step_s\u001b[0m \u001b[1;33m=\u001b[0m \u001b[0md\u001b[0m\u001b[1;33m.\u001b[0m\u001b[0mgetTimeHydraulicStep\u001b[0m\u001b[1;33m(\u001b[0m\u001b[1;33m)\u001b[0m\u001b[1;33m\u001b[0m\u001b[1;33m\u001b[0m\u001b[0m\n\u001b[0;32m    133\u001b[0m         \u001b[0mprint\u001b[0m\u001b[1;33m(\u001b[0m\u001b[1;34m\"Time period for hydraulic analysis: %d seconds\"\u001b[0m \u001b[1;33m%\u001b[0m \u001b[1;33m(\u001b[0m\u001b[0mh_sim_time_step_s\u001b[0m\u001b[1;33m)\u001b[0m\u001b[1;33m)\u001b[0m\u001b[1;33m\u001b[0m\u001b[1;33m\u001b[0m\u001b[0m\n\u001b[0;32m    134\u001b[0m         \u001b[1;31m# EPANET analysis\u001b[0m\u001b[1;33m\u001b[0m\u001b[1;33m\u001b[0m\u001b[0m\n\u001b[0;32m    135\u001b[0m         \u001b[0md\u001b[0m\u001b[1;33m.\u001b[0m\u001b[0msetQualityType\u001b[0m\u001b[1;33m(\u001b[0m\u001b[1;34m\"age\"\u001b[0m\u001b[1;33m)\u001b[0m\u001b[1;33m\u001b[0m\u001b[1;33m\u001b[0m\u001b[0m\n\u001b[1;32m--> 136\u001b[1;33m         \u001b[0mH\u001b[0m \u001b[1;33m=\u001b[0m \u001b[0md\u001b[0m\u001b[1;33m.\u001b[0m\u001b[0mgetComputedHydraulicTimeSeries\u001b[0m\u001b[1;33m(\u001b[0m\u001b[1;33m)\u001b[0m\u001b[1;33m\u001b[0m\u001b[1;33m\u001b[0m\u001b[0m\n\u001b[0m\u001b[0;32m    137\u001b[0m         \u001b[0mQ\u001b[0m \u001b[1;33m=\u001b[0m \u001b[0md\u001b[0m\u001b[1;33m.\u001b[0m\u001b[0mgetComputedQualityTimeSeries\u001b[0m\u001b[1;33m(\u001b[0m\u001b[1;33m)\u001b[0m\u001b[1;33m\u001b[0m\u001b[1;33m\u001b[0m\u001b[0m\n\u001b[0;32m    138\u001b[0m         \u001b[0mprint\u001b[0m\u001b[1;33m(\u001b[0m\u001b[1;34m\"Analysis with EPANET completed...\"\u001b[0m\u001b[1;33m)\u001b[0m\u001b[1;33m\u001b[0m\u001b[1;33m\u001b[0m\u001b[0m\n\u001b[0;32m    139\u001b[0m         \u001b[0mprint\u001b[0m\u001b[1;33m(\u001b[0m\u001b[1;34m\"Information successfully stored.\"\u001b[0m\u001b[1;33m)\u001b[0m\u001b[1;33m\u001b[0m\u001b[1;33m\u001b[0m\u001b[0m\n",
      "\u001b[1;32mc:\\Users\\Abhijith\\anaconda3\\envs\\epytc\\Lib\\site-packages\\epyt\\epanet.py\u001b[0m in \u001b[0;36m?\u001b[1;34m(self, matrix, *argv)\u001b[0m\n\u001b[0;32m   2152\u001b[0m             \u001b[1;32mif\u001b[0m \u001b[1;34m'head'\u001b[0m \u001b[1;32min\u001b[0m \u001b[0mattrs\u001b[0m\u001b[1;33m:\u001b[0m\u001b[1;33m\u001b[0m\u001b[1;33m\u001b[0m\u001b[0m\n\u001b[0;32m   2153\u001b[0m                 \u001b[0mvalue\u001b[0m\u001b[1;33m.\u001b[0m\u001b[0mHead\u001b[0m\u001b[1;33m[\u001b[0m\u001b[0mk\u001b[0m\u001b[1;33m]\u001b[0m \u001b[1;33m=\u001b[0m \u001b[0mself\u001b[0m\u001b[1;33m.\u001b[0m\u001b[0mgetNodeHydraulicHead\u001b[0m\u001b[1;33m(\u001b[0m\u001b[1;33m)\u001b[0m\u001b[1;33m\u001b[0m\u001b[1;33m\u001b[0m\u001b[0m\n\u001b[0;32m   2154\u001b[0m             \u001b[1;32mif\u001b[0m \u001b[1;34m'tankvolume'\u001b[0m \u001b[1;32min\u001b[0m \u001b[0mattrs\u001b[0m\u001b[1;33m:\u001b[0m\u001b[1;33m\u001b[0m\u001b[1;33m\u001b[0m\u001b[0m\n\u001b[0;32m   2155\u001b[0m                 value.TankVolume[k] = np.zeros(\n\u001b[1;32m-> 2156\u001b[1;33m                     \u001b[0mself\u001b[0m\u001b[1;33m.\u001b[0m\u001b[0mgetNodeJunctionCount\u001b[0m\u001b[1;33m(\u001b[0m\u001b[1;33m)\u001b[0m \u001b[1;33m+\u001b[0m\u001b[1;33m\u001b[0m\u001b[1;33m\u001b[0m\u001b[0m\n\u001b[0m\u001b[0;32m   2157\u001b[0m                     \u001b[0mself\u001b[0m\u001b[1;33m.\u001b[0m\u001b[0mgetNodeReservoirCount\u001b[0m\u001b[1;33m(\u001b[0m\u001b[1;33m)\u001b[0m\u001b[1;33m\u001b[0m\u001b[1;33m\u001b[0m\u001b[0m\n\u001b[0;32m   2158\u001b[0m                 \u001b[1;33m)\u001b[0m\u001b[1;33m\u001b[0m\u001b[1;33m\u001b[0m\u001b[0m\n\u001b[0;32m   2159\u001b[0m                 value.TankVolume[k] = np.concatenate((\n",
      "\u001b[1;32mc:\\Users\\Abhijith\\anaconda3\\envs\\epytc\\Lib\\site-packages\\epyt\\epanet.py\u001b[0m in \u001b[0;36m?\u001b[1;34m(self)\u001b[0m\n\u001b[0;32m   4313\u001b[0m         \u001b[1;33m>>\u001b[0m\u001b[1;33m>\u001b[0m \u001b[0md\u001b[0m\u001b[1;33m.\u001b[0m\u001b[0mgetNodeJunctionCount\u001b[0m\u001b[1;33m(\u001b[0m\u001b[1;33m)\u001b[0m\u001b[1;33m\u001b[0m\u001b[1;33m\u001b[0m\u001b[0m\n\u001b[0;32m   4314\u001b[0m \u001b[1;33m\u001b[0m\u001b[0m\n\u001b[0;32m   4315\u001b[0m         \u001b[0mSee\u001b[0m \u001b[0malso\u001b[0m \u001b[0mgetNodeTankCount\u001b[0m\u001b[1;33m,\u001b[0m \u001b[0mgetNodeCount\u001b[0m\u001b[1;33m.\u001b[0m\u001b[1;33m\u001b[0m\u001b[1;33m\u001b[0m\u001b[0m\n\u001b[0;32m   4316\u001b[0m         \"\"\"\n\u001b[1;32m-> 4317\u001b[1;33m         \u001b[1;32mreturn\u001b[0m \u001b[0mself\u001b[0m\u001b[1;33m.\u001b[0m\u001b[0mgetNodeTypeIndex\u001b[0m\u001b[1;33m(\u001b[0m\u001b[1;33m)\u001b[0m\u001b[1;33m.\u001b[0m\u001b[0mcount\u001b[0m\u001b[1;33m(\u001b[0m\u001b[0mself\u001b[0m\u001b[1;33m.\u001b[0m\u001b[0mToolkitConstants\u001b[0m\u001b[1;33m.\u001b[0m\u001b[0mEN_JUNCTION\u001b[0m\u001b[1;33m)\u001b[0m\u001b[1;33m\u001b[0m\u001b[1;33m\u001b[0m\u001b[0m\n\u001b[0m",
      "\u001b[1;32mc:\\Users\\Abhijith\\anaconda3\\envs\\epytc\\Lib\\site-packages\\epyt\\epanet.py\u001b[0m in \u001b[0;36m?\u001b[1;34m(self, *argv)\u001b[0m\n\u001b[0;32m   5358\u001b[0m             \u001b[1;32melse\u001b[0m\u001b[1;33m:\u001b[0m\u001b[1;33m\u001b[0m\u001b[1;33m\u001b[0m\u001b[0m\n\u001b[0;32m   5359\u001b[0m                 \u001b[0mnTypes\u001b[0m \u001b[1;33m=\u001b[0m \u001b[0mself\u001b[0m\u001b[1;33m.\u001b[0m\u001b[0mapi\u001b[0m\u001b[1;33m.\u001b[0m\u001b[0mENgetnodetype\u001b[0m\u001b[1;33m(\u001b[0m\u001b[0mindex\u001b[0m\u001b[1;33m)\u001b[0m\u001b[1;33m\u001b[0m\u001b[1;33m\u001b[0m\u001b[0m\n\u001b[0;32m   5360\u001b[0m         \u001b[1;32melse\u001b[0m\u001b[1;33m:\u001b[0m\u001b[1;33m\u001b[0m\u001b[1;33m\u001b[0m\u001b[0m\n\u001b[0;32m   5361\u001b[0m             \u001b[1;32mfor\u001b[0m \u001b[0mi\u001b[0m \u001b[1;32min\u001b[0m \u001b[0mrange\u001b[0m\u001b[1;33m(\u001b[0m\u001b[0mself\u001b[0m\u001b[1;33m.\u001b[0m\u001b[0mgetNodeCount\u001b[0m\u001b[1;33m(\u001b[0m\u001b[1;33m)\u001b[0m\u001b[1;33m)\u001b[0m\u001b[1;33m:\u001b[0m\u001b[1;33m\u001b[0m\u001b[1;33m\u001b[0m\u001b[0m\n\u001b[1;32m-> 5362\u001b[1;33m                 \u001b[0mnTypes\u001b[0m\u001b[1;33m.\u001b[0m\u001b[0mappend\u001b[0m\u001b[1;33m(\u001b[0m\u001b[0mself\u001b[0m\u001b[1;33m.\u001b[0m\u001b[0mapi\u001b[0m\u001b[1;33m.\u001b[0m\u001b[0mENgetnodetype\u001b[0m\u001b[1;33m(\u001b[0m\u001b[0mi\u001b[0m \u001b[1;33m+\u001b[0m \u001b[1;36m1\u001b[0m\u001b[1;33m)\u001b[0m\u001b[1;33m)\u001b[0m\u001b[1;33m\u001b[0m\u001b[1;33m\u001b[0m\u001b[0m\n\u001b[0m\u001b[0;32m   5363\u001b[0m         \u001b[1;32mreturn\u001b[0m \u001b[0mnTypes\u001b[0m\u001b[1;33m\u001b[0m\u001b[1;33m\u001b[0m\u001b[0m\n",
      "\u001b[1;32mc:\\Users\\Abhijith\\anaconda3\\envs\\epytc\\Lib\\site-packages\\epyt\\epanet.py\u001b[0m in \u001b[0;36m?\u001b[1;34m(self, iIndex)\u001b[0m\n\u001b[0;32m  11982\u001b[0m         \u001b[0mReturns\u001b[0m\u001b[1;33m:\u001b[0m\u001b[1;33m\u001b[0m\u001b[1;33m\u001b[0m\u001b[0m\n\u001b[0;32m  11983\u001b[0m         type the node's type (see NodeType).\n\u001b[0;32m  11984\u001b[0m         \"\"\"\n\u001b[0;32m  11985\u001b[0m         \u001b[0miCode\u001b[0m \u001b[1;33m=\u001b[0m \u001b[0mctypes\u001b[0m\u001b[1;33m.\u001b[0m\u001b[0mc_int\u001b[0m\u001b[1;33m(\u001b[0m\u001b[1;33m)\u001b[0m\u001b[1;33m\u001b[0m\u001b[1;33m\u001b[0m\u001b[0m\n\u001b[1;32m> 11986\u001b[1;33m         \u001b[0mself\u001b[0m\u001b[1;33m.\u001b[0m\u001b[0merrcode\u001b[0m \u001b[1;33m=\u001b[0m \u001b[0mself\u001b[0m\u001b[1;33m.\u001b[0m\u001b[0m_lib\u001b[0m\u001b[1;33m.\u001b[0m\u001b[0mEN_getnodetype\u001b[0m\u001b[1;33m(\u001b[0m\u001b[0mself\u001b[0m\u001b[1;33m.\u001b[0m\u001b[0m_ph\u001b[0m\u001b[1;33m,\u001b[0m \u001b[0mint\u001b[0m\u001b[1;33m(\u001b[0m\u001b[0miIndex\u001b[0m\u001b[1;33m)\u001b[0m\u001b[1;33m,\u001b[0m \u001b[0mctypes\u001b[0m\u001b[1;33m.\u001b[0m\u001b[0mbyref\u001b[0m\u001b[1;33m(\u001b[0m\u001b[0miCode\u001b[0m\u001b[1;33m)\u001b[0m\u001b[1;33m)\u001b[0m\u001b[1;33m\u001b[0m\u001b[1;33m\u001b[0m\u001b[0m\n\u001b[0m\u001b[0;32m  11987\u001b[0m         \u001b[0mself\u001b[0m\u001b[1;33m.\u001b[0m\u001b[0mENgeterror\u001b[0m\u001b[1;33m(\u001b[0m\u001b[1;33m)\u001b[0m\u001b[1;33m\u001b[0m\u001b[1;33m\u001b[0m\u001b[0m\n\u001b[0;32m  11988\u001b[0m         \u001b[1;32mreturn\u001b[0m \u001b[0miCode\u001b[0m\u001b[1;33m.\u001b[0m\u001b[0mvalue\u001b[0m\u001b[1;33m\u001b[0m\u001b[1;33m\u001b[0m\u001b[0m\n",
      "\u001b[1;31mKeyboardInterrupt\u001b[0m: "
     ]
    }
   ],
   "source": [
    "# Executing EPyT-C\n",
    "execute_epytc(epytc)"
   ]
  }
 ],
 "metadata": {
  "jupytext": {
   "cell_metadata_filter": "-all",
   "main_language": "python",
   "notebook_metadata_filter": "-all"
  },
  "kernelspec": {
   "display_name": "Python 3 (ipykernel)",
   "language": "python",
   "name": "python3"
  },
  "language_info": {
   "codemirror_mode": {
    "name": "ipython",
    "version": 3
   },
   "file_extension": ".py",
   "mimetype": "text/x-python",
   "name": "python",
   "nbconvert_exporter": "python",
   "pygments_lexer": "ipython3",
   "version": "3.12.1"
  }
 },
 "nbformat": 4,
 "nbformat_minor": 5
}
