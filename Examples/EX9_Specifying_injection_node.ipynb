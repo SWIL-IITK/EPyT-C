{
 "cells": [
  {
   "cell_type": "markdown",
   "id": "13506762",
   "metadata": {},
   "source": [
    "This example contains:\n",
    "- Import EPyT-C.\n",
    "- Specify the INP file name of the network to be simulated.\n",
    "- Specify the number of days for which water quality needs to be simulated.\n",
    "- Specify the time step in seconds for water quality simulation.\n",
    "- Add water quality parameter input values for the source nodes.\n",
    "- Specify the injection node.\n",
    "- Add water quality parameter input values for the injection node.\n",
    "- Run EPyT-C for water quality analysis.\n",
    "\n",
    "The results are saved as .XLSX files by default."
   ]
  },
  {
   "cell_type": "code",
   "execution_count": null,
   "id": "beaed152",
   "metadata": {},
   "outputs": [],
   "source": [
    "# Importing EPyT-C\n",
    "from epyt_c.main_epytc import create_epytc, execute_epytc\n",
    "import os"
   ]
  },
  {
   "cell_type": "code",
   "execution_count": null,
   "id": "24679d10",
   "metadata": {},
   "outputs": [],
   "source": [
    "# create an epytc_class instace\n",
    "epytc = create_epytc()"
   ]
  },
  {
   "cell_type": "code",
   "execution_count": null,
   "id": "76ed18eb",
   "metadata": {},
   "outputs": [],
   "source": [
    "# Specify the network name\n",
    "epytc.network_name = os.path.join(os.path.dirname(os.path.realpath(__file__)), \"..\", \"epyt_c\", \"Networks\", \"Net3.inp\")"
   ]
  },
  {
   "cell_type": "code",
   "execution_count": null,
   "id": "92f4670e",
   "metadata": {},
   "outputs": [],
   "source": [
    "# Specify the simulation period (days)\n",
    "epytc.simulation_period_days = 10"
   ]
  },
  {
   "cell_type": "code",
   "execution_count": null,
   "id": "2b03827b",
   "metadata": {},
   "outputs": [],
   "source": [
    "# Specify the simulation time step (seconds)\n",
    "epytc.simulation_time_step = 300"
   ]
  },
  {
   "cell_type": "code",
   "execution_count": null,
   "id": "7f6297ef",
   "metadata": {},
   "outputs": [],
   "source": [
    "# Add water quality at the source nodes\n",
    "epytc.reservoir_quality_matrix = [[1, 2, 40], [1, 2, 40]]"
   ]
  },
  {
   "cell_type": "markdown",
   "id": "bb188d7a",
   "metadata": {},
   "source": [
    "By default, no injection node is specified in EPyT-C. To specify injection\n",
    "node, use the following code:"
   ]
  },
  {
   "cell_type": "code",
   "execution_count": null,
   "id": "f4e5a47c",
   "metadata": {},
   "outputs": [],
   "source": [
    "epytc.injection_nodes_index = [21]"
   ]
  },
  {
   "cell_type": "markdown",
   "id": "eecbd5ba",
   "metadata": {},
   "source": [
    "The junction '121' with index 21 is now specified as the injection node."
   ]
  },
  {
   "cell_type": "markdown",
   "id": "61b4fecf",
   "metadata": {},
   "source": [
    "To specify the water quality at the injection node, use the following\n",
    "code:"
   ]
  },
  {
   "cell_type": "code",
   "execution_count": null,
   "id": "d07eb06e",
   "metadata": {
    "lines_to_next_cell": 2
   },
   "outputs": [],
   "source": [
    "epytc.injection_nodes_quality_matrix = [[2, 0, 0]]"
   ]
  },
  {
   "cell_type": "markdown",
   "id": "3ac6368f",
   "metadata": {
    "lines_to_next_cell": 2
   },
   "source": [
    "It is now specified that at injection node, i.e., junction '121', the\n",
    "chlorine concentration will be always 2 mg/L. In other words, junction '121'\n",
    "acts like like a booster node for chloirne."
   ]
  },
  {
   "cell_type": "code",
   "execution_count": null,
   "id": "860250fb",
   "metadata": {},
   "outputs": [],
   "source": [
    "# Executing EPyT-C\n",
    "execute_epytc(epytc)"
   ]
  }
 ],
 "metadata": {
  "jupytext": {
   "cell_metadata_filter": "-all",
   "main_language": "python",
   "notebook_metadata_filter": "-all"
  },
  "language_info": {
   "name": "python"
  }
 },
 "nbformat": 4,
 "nbformat_minor": 5
}
