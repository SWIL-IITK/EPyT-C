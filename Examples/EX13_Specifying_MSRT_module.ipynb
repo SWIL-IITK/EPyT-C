{
 "cells": [
  {
   "cell_type": "markdown",
   "id": "9defa7b2",
   "metadata": {},
   "source": [
    "This example contains:\n",
    "- Import EPyT-C.\n",
    "- Specify the MSRT module.\n",
    "- Add water quality parameter input values for the source nodes.\n",
    "- Run EPyT-C for water quality analysis.\n",
    "\n",
    "The results are saved as .XLSX files by default."
   ]
  },
  {
   "cell_type": "code",
   "execution_count": null,
   "id": "decd99c2",
   "metadata": {},
   "outputs": [],
   "source": [
    "# Importing EPyT-C\n",
    "from epyt_c.main_epytc import create_epytc, execute_epytc"
   ]
  },
  {
   "cell_type": "code",
   "execution_count": null,
   "id": "d1ab6972",
   "metadata": {},
   "outputs": [],
   "source": [
    "# create an epytc_class instace\n",
    "epytc = create_epytc()"
   ]
  },
  {
   "cell_type": "markdown",
   "id": "e20c4de1",
   "metadata": {},
   "source": [
    "Currently, EPyT-C is equipped with four mult-species reactive-transport (MSRT) modules:\n",
    "`MSRT-1`: Chlorine decay and trihalomethanes formation module\n",
    "('chlorine_decay_thms_formation')\n",
    "`MSRT-2`: Bacterial regrowth module ('bacterial_regrowth')\n",
    "`MSRT-3`: Arsenite oxidation and arsenate attachment/detachment module\n",
    "('arsenite_oxidation_arsenate_attachment_detachment')\n",
    "MSRT-4:P Perfluorooctanoic formation module ('pfas_formation')\n",
    "\n",
    "The default module for EPyT-C is Chlorine decay and trihalomethanes formation\n",
    "module ('chlorine_decay_thms_formation', i.e., `MSRT-1`).\n",
    "\n",
    "To change to the Bacterial regrowth MSRT module ('bacterial_regrowth'), use the\n",
    "following code:"
   ]
  },
  {
   "cell_type": "code",
   "execution_count": null,
   "id": "b898d519",
   "metadata": {},
   "outputs": [],
   "source": [
    "epytc.module = \"MSRT-2\""
   ]
  },
  {
   "cell_type": "markdown",
   "id": "51d68692",
   "metadata": {},
   "source": [
    "To specify the water quality at the source nodes, use the following code:"
   ]
  },
  {
   "cell_type": "code",
   "execution_count": null,
   "id": "9c4499ca",
   "metadata": {},
   "outputs": [],
   "source": [
    "epytc.reservoir_quality_matrix = [[1, 2, 0.8, 0.1, 1e6], [1, 2, 0.8, 0.1, 1e6]]"
   ]
  },
  {
   "cell_type": "markdown",
   "id": "2a5a32e9",
   "metadata": {},
   "source": [
    "The bulk water quality parameters (Chlorine, TOC, BDOC, FLB, and FDB) at the\n",
    "two source nodes are now changed to 1 mg/L, 2 mg/L, 0.8 mg/L, 0.1 CFU/L, and\n",
    "1e6 cells/L, respectively, corresponding to the MSRT module selected."
   ]
  },
  {
   "cell_type": "code",
   "execution_count": null,
   "id": "e714c7db",
   "metadata": {},
   "outputs": [],
   "source": [
    "# Executing EPyT-C\n",
    "execute_epytc(epytc)"
   ]
  }
 ],
 "metadata": {
  "jupytext": {
   "cell_metadata_filter": "-all",
   "main_language": "python",
   "notebook_metadata_filter": "-all"
  },
  "language_info": {
   "name": "python"
  }
 },
 "nbformat": 4,
 "nbformat_minor": 5
}
