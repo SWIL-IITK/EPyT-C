{
 "cells": [
  {
   "cell_type": "code",
   "execution_count": null,
   "id": "f6c88bf4",
   "metadata": {},
   "outputs": [],
   "source": [
    "# Importing EPyT-C\n",
    "from epyt_c.main_epytc import create_epytc, execute_epytc\n",
    "import os"
   ]
  },
  {
   "cell_type": "code",
   "execution_count": null,
   "id": "6d2c3fda",
   "metadata": {},
   "outputs": [],
   "source": [
    "print(\n",
    "    \"\"\"  EPyT-C Example 4\n",
    "\n",
    "   This example contains:\n",
    "    Import EPyT-C.\n",
    "    Specify the INP file name of the network to be simulated.\n",
    "    Specify the number of days for which water quality needs to be simulated.\n",
    "    Specify the time step in seconds for water quality simulation.\n",
    "    Add water quality parameter input values for the source node.\n",
    "    Run EPyT-C for water quality analysis.\n",
    "\n",
    "        The results are saved as .XLSX files by default.\n",
    "\n",
    "\"\"\"\n",
    ")"
   ]
  },
  {
   "cell_type": "code",
   "execution_count": null,
   "id": "68fdbd17",
   "metadata": {},
   "outputs": [],
   "source": [
    "# create an epytc_class instace\n",
    "epytc = create_epytc()"
   ]
  },
  {
   "cell_type": "code",
   "execution_count": null,
   "id": "81596e0e",
   "metadata": {},
   "outputs": [],
   "source": [
    "\"\"\"The default .INP file for EPyT-C is Net3.inp, and is stored in the folder\n",
    "'EPyT-C\\\\Networks'. To change the .INP file, use the following code:\"\"\""
   ]
  },
  {
   "cell_type": "code",
   "execution_count": null,
   "id": "e6eaf4b3",
   "metadata": {},
   "outputs": [],
   "source": [
    "epytc.network_name = os.path.join(os.path.dirname(os.path.realpath(__file__)), \"..\", \"epyt_c\", \"Networks\", \"Net3.inp\")"
   ]
  },
  {
   "cell_type": "code",
   "execution_count": null,
   "id": "dc2ef775",
   "metadata": {},
   "outputs": [],
   "source": [
    "\"\"\"The network for water quality simulation is now changed to Net1.inp.\"\"\""
   ]
  },
  {
   "cell_type": "code",
   "execution_count": null,
   "id": "dcdf6da8",
   "metadata": {},
   "outputs": [],
   "source": [
    "# Specify the simulation period (days)\n",
    "epytc.simulation_period_days = 10"
   ]
  },
  {
   "cell_type": "code",
   "execution_count": null,
   "id": "93a6d5a2",
   "metadata": {},
   "outputs": [],
   "source": [
    "# Specify the simulation time step (seconds)\n",
    "epytc.simulation_time_step = 300"
   ]
  },
  {
   "cell_type": "code",
   "execution_count": null,
   "id": "34640a24",
   "metadata": {},
   "outputs": [],
   "source": [
    "# Add water quality at the source node\n",
    "epytc.reservoir_quality_matrix = [[1, 2, 40], [1, 2, 40]]"
   ]
  },
  {
   "cell_type": "code",
   "execution_count": null,
   "id": "804c8eda",
   "metadata": {},
   "outputs": [],
   "source": [
    "# Executing EPyT-C\n",
    "execute_epytc(epytc)"
   ]
  }
 ],
 "metadata": {
  "jupytext": {
   "cell_metadata_filter": "-all",
   "main_language": "python",
   "notebook_metadata_filter": "-all"
  }
 },
 "nbformat": 4,
 "nbformat_minor": 5
}
