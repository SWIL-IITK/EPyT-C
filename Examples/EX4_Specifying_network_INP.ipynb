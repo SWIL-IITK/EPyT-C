{
 "cells": [
  {
   "cell_type": "markdown",
   "id": "6d2c3fda",
   "metadata": {},
   "source": [
    "This example contains:\n",
    "- Import EPyT-C.\n",
    "- Specify the INP file name of the network to be simulated.\n",
    "- Specify the number of days for which water quality needs to be simulated.\n",
    "- Specify the time step in seconds for water quality simulation.\n",
    "- Add water quality parameter input values for the source node.\n",
    "- Run EPyT-C for water quality analysis.\n",
    "\n",
    "The results are saved as .XLSX files by default."
   ]
  },
  {
   "cell_type": "code",
   "execution_count": 1,
   "id": "f6c88bf4",
   "metadata": {},
   "outputs": [],
   "source": [
    "# Importing EPyT-C\n",
    "from epyt_c.main_epytc import create_epytc, execute_epytc\n",
    "import os"
   ]
  },
  {
   "cell_type": "code",
   "execution_count": 2,
   "id": "68fdbd17",
   "metadata": {},
   "outputs": [
    {
     "name": "stdout",
     "output_type": "stream",
     "text": [
      "Creating instance of EPyT-C with default values\n",
      "/Users/jaykrishnang/Documents/Technion/civil/EPyT-C/Examples/../epyt_c/Networks/Net3.inp\n"
     ]
    }
   ],
   "source": [
    "# create an epytc_class instace\n",
    "epytc = create_epytc()"
   ]
  },
  {
   "cell_type": "markdown",
   "id": "81596e0e",
   "metadata": {},
   "source": [
    "The default .INP file for EPyT-C is Net3.inp, and is stored in the folder\n",
    "'EPyT-C\\\\Networks'. To change the .INP file, use the following code:"
   ]
  },
  {
   "cell_type": "code",
   "execution_count": 3,
   "id": "e6eaf4b3",
   "metadata": {},
   "outputs": [],
   "source": [
    "epytc.network_name = os.path.join(os.getcwd(), \"..\", \"epyt_c\", \"Networks\", \"Net3.inp\")"
   ]
  },
  {
   "cell_type": "markdown",
   "id": "dc2ef775",
   "metadata": {},
   "source": [
    "The network for water quality simulation is now changed to Net1.inp."
   ]
  },
  {
   "cell_type": "code",
   "execution_count": 4,
   "id": "dcdf6da8",
   "metadata": {},
   "outputs": [],
   "source": [
    "# Specify the simulation period (days)\n",
    "epytc.simulation_period_days = 10"
   ]
  },
  {
   "cell_type": "code",
   "execution_count": 5,
   "id": "93a6d5a2",
   "metadata": {},
   "outputs": [],
   "source": [
    "# Specify the simulation time step (seconds)\n",
    "epytc.simulation_time_step = 300"
   ]
  },
  {
   "cell_type": "code",
   "execution_count": 6,
   "id": "34640a24",
   "metadata": {},
   "outputs": [],
   "source": [
    "# Add water quality at the source node\n",
    "epytc.reservoir_quality_matrix = [[1, 2, 40], [1, 2, 40]]"
   ]
  },
  {
   "cell_type": "code",
   "execution_count": 7,
   "id": "804c8eda",
   "metadata": {},
   "outputs": [
    {
     "name": "stdout",
     "output_type": "stream",
     "text": [
      "EPyT-C loaded for execution...\n",
      "Requirement already satisfied: epyt in /Users/jaykrishnang/anaconda3/envs/epytc_x86/lib/python3.9/site-packages (1.0.8)\n",
      "Requirement already satisfied: numpy in /Users/jaykrishnang/anaconda3/envs/epytc_x86/lib/python3.9/site-packages (from epyt) (1.26.3)\n",
      "Requirement already satisfied: matplotlib in /Users/jaykrishnang/anaconda3/envs/epytc_x86/lib/python3.9/site-packages (from epyt) (3.8.2)\n",
      "Requirement already satisfied: pandas in /Users/jaykrishnang/anaconda3/envs/epytc_x86/lib/python3.9/site-packages (from epyt) (2.2.0)\n",
      "Requirement already satisfied: xlsxwriter in /Users/jaykrishnang/anaconda3/envs/epytc_x86/lib/python3.9/site-packages (from epyt) (3.1.9)\n",
      "Requirement already satisfied: contourpy>=1.0.1 in /Users/jaykrishnang/anaconda3/envs/epytc_x86/lib/python3.9/site-packages (from matplotlib->epyt) (1.2.0)\n",
      "Requirement already satisfied: cycler>=0.10 in /Users/jaykrishnang/anaconda3/envs/epytc_x86/lib/python3.9/site-packages (from matplotlib->epyt) (0.12.1)\n",
      "Requirement already satisfied: fonttools>=4.22.0 in /Users/jaykrishnang/anaconda3/envs/epytc_x86/lib/python3.9/site-packages (from matplotlib->epyt) (4.47.2)\n",
      "Requirement already satisfied: kiwisolver>=1.3.1 in /Users/jaykrishnang/anaconda3/envs/epytc_x86/lib/python3.9/site-packages (from matplotlib->epyt) (1.4.5)\n",
      "Requirement already satisfied: packaging>=20.0 in /Users/jaykrishnang/anaconda3/envs/epytc_x86/lib/python3.9/site-packages (from matplotlib->epyt) (23.2)\n",
      "Requirement already satisfied: pillow>=8 in /Users/jaykrishnang/anaconda3/envs/epytc_x86/lib/python3.9/site-packages (from matplotlib->epyt) (10.2.0)\n",
      "Requirement already satisfied: pyparsing>=2.3.1 in /Users/jaykrishnang/anaconda3/envs/epytc_x86/lib/python3.9/site-packages (from matplotlib->epyt) (3.1.1)\n",
      "Requirement already satisfied: python-dateutil>=2.7 in /Users/jaykrishnang/anaconda3/envs/epytc_x86/lib/python3.9/site-packages (from matplotlib->epyt) (2.8.2)\n",
      "Requirement already satisfied: importlib-resources>=3.2.0 in /Users/jaykrishnang/anaconda3/envs/epytc_x86/lib/python3.9/site-packages (from matplotlib->epyt) (6.1.1)\n",
      "Requirement already satisfied: pytz>=2020.1 in /Users/jaykrishnang/anaconda3/envs/epytc_x86/lib/python3.9/site-packages (from pandas->epyt) (2024.1)\n",
      "Requirement already satisfied: tzdata>=2022.7 in /Users/jaykrishnang/anaconda3/envs/epytc_x86/lib/python3.9/site-packages (from pandas->epyt) (2023.4)\n",
      "Requirement already satisfied: zipp>=3.1.0 in /Users/jaykrishnang/anaconda3/envs/epytc_x86/lib/python3.9/site-packages (from importlib-resources>=3.2.0->matplotlib->epyt) (3.17.0)\n",
      "Requirement already satisfied: six>=1.5 in /Users/jaykrishnang/anaconda3/envs/epytc_x86/lib/python3.9/site-packages (from python-dateutil>=2.7->matplotlib->epyt) (1.16.0)\n",
      "Chlorine decay and trihalomethanes formation module loaded.\n",
      "Reactive species (bulk):\n",
      "Chlorine (mg-Cl/L)\n",
      "TOC (mg-C/L)\n",
      "THMs (ug-THM/L)\n",
      "EPANET version 20200 loaded (EPyT version 1.0.7).\n",
      "Input File Net3.inp loaded successfully.\n",
      "\n",
      "Reservoir 1: River\n",
      "Reservoir 2: Lake\n",
      "Tank 1: 1\n",
      "Tank 2: 2\n",
      "Tank 3: 3\n",
      "Pump 1: 10\n",
      "Pump 2: 335\n",
      "Number of iterations: 1\n",
      "Number of days for which water quality is simulated: 10\n",
      "Time period for water quality simulation: 300 seconds\n",
      "Number of water quality simulation steps: 2881\n",
      "Number of water quality parameters in the MSRT model: 3\n",
      "Number of bulk phase water quality paraneters: 3\n",
      "Number of wall phase water quality paraneters: 0\n",
      "Reservoir quality updated.\n",
      "Injection nodes quality updated.\n",
      "Water quality simulation (Iteration 1) is starting...\n",
      "Hydraulic analysis simulation period: 10 days\n",
      "Time period for hydraulic analysis: 3600 seconds\n",
      "Analysis with EPANET completed...\n",
      "Information successfully stored.\n",
      "Filtering hydraulic analysis report.\n",
      "Water quality simulation started...\n",
      "Water quality simulation step (Iteration 1/ 1): 1 (/ 2881)\n",
      "Water quality simulation step (Iteration 1/ 1): 2 (/ 2881)\n",
      "Water quality simulation step (Iteration 1/ 1): 3 (/ 2881)\n",
      "Water quality simulation step (Iteration 1/ 1): 4 (/ 2881)\n",
      "Water quality simulation step (Iteration 1/ 1): 5 (/ 2881)\n",
      "Water quality simulation step (Iteration 1/ 1): 6 (/ 2881)\n",
      "Water quality simulation step (Iteration 1/ 1): 7 (/ 2881)\n",
      "Water quality simulation step (Iteration 1/ 1): 8 (/ 2881)\n",
      "Water quality simulation step (Iteration 1/ 1): 9 (/ 2881)\n",
      "Water quality simulation step (Iteration 1/ 1): 10 (/ 2881)\n",
      "Water quality simulation step (Iteration 1/ 1): 11 (/ 2881)\n",
      "Water quality simulation step (Iteration 1/ 1): 12 (/ 2881)\n",
      "Water quality simulation step (Iteration 1/ 1): 13 (/ 2881)\n",
      "Water quality simulation step (Iteration 1/ 1): 14 (/ 2881)\n",
      "Water quality simulation step (Iteration 1/ 1): 15 (/ 2881)\n",
      "Water quality simulation step (Iteration 1/ 1): 16 (/ 2881)\n",
      "Water quality simulation step (Iteration 1/ 1): 17 (/ 2881)\n",
      "Water quality simulation step (Iteration 1/ 1): 18 (/ 2881)\n",
      "Water quality simulation step (Iteration 1/ 1): 19 (/ 2881)\n",
      "Water quality simulation step (Iteration 1/ 1): 20 (/ 2881)\n",
      "Water quality simulation step (Iteration 1/ 1): 21 (/ 2881)\n",
      "Water quality simulation step (Iteration 1/ 1): 22 (/ 2881)\n",
      "Water quality simulation step (Iteration 1/ 1): 23 (/ 2881)\n",
      "Water quality simulation step (Iteration 1/ 1): 24 (/ 2881)\n",
      "Water quality simulation step (Iteration 1/ 1): 25 (/ 2881)\n",
      "Water quality simulation step (Iteration 1/ 1): 26 (/ 2881)\n",
      "Water quality simulation step (Iteration 1/ 1): 27 (/ 2881)\n",
      "Water quality simulation step (Iteration 1/ 1): 28 (/ 2881)\n",
      "Water quality simulation step (Iteration 1/ 1): 29 (/ 2881)\n",
      "Water quality simulation step (Iteration 1/ 1): 30 (/ 2881)\n",
      "Water quality simulation step (Iteration 1/ 1): 31 (/ 2881)\n",
      "Water quality simulation step (Iteration 1/ 1): 32 (/ 2881)\n",
      "Water quality simulation step (Iteration 1/ 1): 33 (/ 2881)\n",
      "Water quality simulation step (Iteration 1/ 1): 34 (/ 2881)\n",
      "Water quality simulation step (Iteration 1/ 1): 35 (/ 2881)\n",
      "Water quality simulation step (Iteration 1/ 1): 36 (/ 2881)\n",
      "Water quality simulation step (Iteration 1/ 1): 37 (/ 2881)\n",
      "Water quality simulation step (Iteration 1/ 1): 38 (/ 2881)\n",
      "Water quality simulation step (Iteration 1/ 1): 39 (/ 2881)\n",
      "Water quality simulation step (Iteration 1/ 1): 40 (/ 2881)\n",
      "Water quality simulation step (Iteration 1/ 1): 41 (/ 2881)\n",
      "Water quality simulation step (Iteration 1/ 1): 42 (/ 2881)\n",
      "Water quality simulation step (Iteration 1/ 1): 43 (/ 2881)\n",
      "Water quality simulation step (Iteration 1/ 1): 44 (/ 2881)\n",
      "Water quality simulation step (Iteration 1/ 1): 45 (/ 2881)\n",
      "Water quality simulation step (Iteration 1/ 1): 46 (/ 2881)\n",
      "Water quality simulation step (Iteration 1/ 1): 47 (/ 2881)\n"
     ]
    },
    {
     "ename": "KeyboardInterrupt",
     "evalue": "",
     "output_type": "error",
     "traceback": [
      "\u001b[0;31m---------------------------------------------------------------------------\u001b[0m",
      "\u001b[0;31mKeyboardInterrupt\u001b[0m                         Traceback (most recent call last)",
      "\u001b[1;32m/Users/jaykrishnang/Documents/Technion/civil/EPyT-C/Examples/EX4_Specifying_network_INP.ipynb Cell 10\u001b[0m line \u001b[0;36m2\n\u001b[1;32m      <a href='vscode-notebook-cell:/Users/jaykrishnang/Documents/Technion/civil/EPyT-C/Examples/EX4_Specifying_network_INP.ipynb#X36sZmlsZQ%3D%3D?line=0'>1</a>\u001b[0m \u001b[39m# Executing EPyT-C\u001b[39;00m\n\u001b[0;32m----> <a href='vscode-notebook-cell:/Users/jaykrishnang/Documents/Technion/civil/EPyT-C/Examples/EX4_Specifying_network_INP.ipynb#X36sZmlsZQ%3D%3D?line=1'>2</a>\u001b[0m execute_epytc(epytc)\n",
      "File \u001b[0;32m~/Documents/Technion/civil/EPyT-C/epyt_c/main_epytc.py:48\u001b[0m, in \u001b[0;36mexecute_epytc\u001b[0;34m(epytc)\u001b[0m\n\u001b[1;32m     46\u001b[0m \u001b[39mdef\u001b[39;00m \u001b[39mexecute_epytc\u001b[39m(epytc: epytc_class):\n\u001b[1;32m     47\u001b[0m     \u001b[39mprint\u001b[39m(\u001b[39m\"\u001b[39m\u001b[39mEPyT-C loaded for execution...\u001b[39m\u001b[39m\"\u001b[39m)\n\u001b[0;32m---> 48\u001b[0m     run_epytc(epytc)\n",
      "File \u001b[0;32m~/Documents/Technion/civil/EPyT-C/epyt_c/run_epyt_c.py:360\u001b[0m, in \u001b[0;36mrun_epytc\u001b[0;34m(epytc)\u001b[0m\n\u001b[1;32m    358\u001b[0m \u001b[39mif\u001b[39;00m alpha_mat[i][\u001b[39m0\u001b[39m] \u001b[39m<\u001b[39m \u001b[39m0\u001b[39m:\n\u001b[1;32m    359\u001b[0m     alpha_mat[i][\u001b[39m0\u001b[39m] \u001b[39m=\u001b[39m \u001b[39m0\u001b[39m\n\u001b[0;32m--> 360\u001b[0m \u001b[39melif\u001b[39;00m alpha_mat[i][\u001b[39m0\u001b[39;49m] \u001b[39m>\u001b[39m length_links[p]:\n\u001b[1;32m    361\u001b[0m     alpha_mat[i][\u001b[39m0\u001b[39m] \u001b[39m=\u001b[39m length_links[p]\n\u001b[1;32m    362\u001b[0m \u001b[39mif\u001b[39;00m wq_step \u001b[39m==\u001b[39m \u001b[39m1\u001b[39m:\n",
      "\u001b[0;31mKeyboardInterrupt\u001b[0m: "
     ]
    }
   ],
   "source": [
    "# Executing EPyT-C\n",
    "execute_epytc(epytc)"
   ]
  }
 ],
 "metadata": {
  "jupytext": {
   "cell_metadata_filter": "-all",
   "main_language": "python",
   "notebook_metadata_filter": "-all"
  },
  "language_info": {
   "name": "python"
  }
 },
 "nbformat": 4,
 "nbformat_minor": 5
}
