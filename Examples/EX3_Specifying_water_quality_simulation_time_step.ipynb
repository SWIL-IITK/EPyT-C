{
 "cells": [
  {
   "cell_type": "markdown",
   "id": "e2ca95fb",
   "metadata": {},
   "source": [
    "This example contains:\n",
    "- Import EPyT-C.\n",
    "- Specify the number of days for which water quality needs to be simulated.\n",
    "- Specify the time step in seconds for water quality simulation.\n",
    "- Add water quality parameter input values for the source nodes.\n",
    "- Run EPyT-C for water quality analysis.\n",
    "\n",
    "The results are saved as .XLSX files by default."
   ]
  },
  {
   "cell_type": "code",
   "execution_count": null,
   "id": "0e7773f4",
   "metadata": {},
   "outputs": [],
   "source": [
    "# Importing EPyT-C\n",
    "from epyt_c.main_epytc import create_epytc, execute_epytc"
   ]
  },
  {
   "cell_type": "code",
   "execution_count": null,
   "id": "ea287007",
   "metadata": {},
   "outputs": [],
   "source": [
    "# create an epytc_class instace\n",
    "epytc = create_epytc()"
   ]
  },
  {
   "cell_type": "code",
   "execution_count": null,
   "id": "0e828219",
   "metadata": {},
   "outputs": [],
   "source": [
    "# Specify the simulation period (days)\n",
    "epytc.simulation_period_days = 5"
   ]
  },
  {
   "cell_type": "markdown",
   "id": "95e1928b",
   "metadata": {},
   "source": [
    "The default simulation time step for EPyT-C is 300 seconds.\n",
    "To change the simulation time step for EPyT-C, use the following code:"
   ]
  },
  {
   "cell_type": "code",
   "execution_count": null,
   "id": "5319708e",
   "metadata": {},
   "outputs": [],
   "source": [
    "epytc.simulation_time_step = 150"
   ]
  },
  {
   "cell_type": "markdown",
   "id": "e44dfab0",
   "metadata": {},
   "source": [
    "The time step in seconds for water quality simulation is now changed to\n",
    "150 seconds."
   ]
  },
  {
   "cell_type": "code",
   "execution_count": null,
   "id": "86d85929",
   "metadata": {},
   "outputs": [],
   "source": [
    "# Add water quality at the source nodes\n",
    "epytc.reservoir_quality_matrix = [[1, 2, 40], [1, 2, 40]]"
   ]
  },
  {
   "cell_type": "code",
   "execution_count": null,
   "id": "3d88e216",
   "metadata": {},
   "outputs": [],
   "source": [
    "# Executing EPyT-C\n",
    "execute_epytc(epytc)"
   ]
  }
 ],
 "metadata": {
  "jupytext": {
   "cell_metadata_filter": "-all",
   "main_language": "python",
   "notebook_metadata_filter": "-all"
  },
  "language_info": {
   "name": "python"
  }
 },
 "nbformat": 4,
 "nbformat_minor": 5
}
