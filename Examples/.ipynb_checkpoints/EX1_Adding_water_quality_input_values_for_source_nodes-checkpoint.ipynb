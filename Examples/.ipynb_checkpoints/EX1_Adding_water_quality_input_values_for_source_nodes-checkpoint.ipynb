{
 "cells": [
  {
   "cell_type": "code",
   "execution_count": null,
   "id": "e78c1eaa",
   "metadata": {},
   "outputs": [],
   "source": [
    "# Importing EPyT-C\n",
    "from epyt_c.main_epytc import create_epytc, execute_epytc"
   ]
  },
  {
   "cell_type": "code",
   "execution_count": null,
   "id": "3d37a1b0",
   "metadata": {},
   "outputs": [],
   "source": [
    "print(\n",
    "    \"\"\"  EPyT-C Example 1\n",
    "\n",
    "   This example contains:\n",
    "    Import EPyT-C.\n",
    "    Add water quality parameter input values for the source nodes.\n",
    "    Run EPyT-C for water quality analysis.\n",
    "\n",
    "        The results are saved as .XLSX files by default.\n",
    "\n",
    "\"\"\"\n",
    ")"
   ]
  },
  {
   "cell_type": "code",
   "execution_count": null,
   "id": "af62fed3",
   "metadata": {},
   "outputs": [],
   "source": [
    "\"\"\" The default .INP file for EPyT-C is Net3.inp with two source nodes\n",
    "(River and Lake). Thus, the default input for water quality at the source\n",
    "nodes is [[0, 0, 0], [0, 0, 0]] corresponding to the default MSRT module\n",
    "Chlorine decay and trihalomethanes formation module\n",
    "('chlorine_decay_thms_formation', i.e., MSRT-1).\n",
    "\n",
    "To change the water quality at the source nodes, use the following code:\"\"\""
   ]
  },
  {
   "cell_type": "code",
   "execution_count": null,
   "id": "b137a28a",
   "metadata": {},
   "outputs": [],
   "source": [
    "# create an epytc_class with default values\n",
    "epytc = create_epytc()"
   ]
  },
  {
   "cell_type": "code",
   "execution_count": null,
   "id": "b94491cd",
   "metadata": {},
   "outputs": [],
   "source": [
    "# Add water quality at the source node\n",
    "epytc.reservoir_quality_matrix = [[1, 2, 40], [1, 2, 40]]"
   ]
  },
  {
   "cell_type": "code",
   "execution_count": null,
   "id": "68318b9f",
   "metadata": {},
   "outputs": [],
   "source": [
    "\"\"\"The bulk water quality parameters (Chlorine, TOC, and THMs) at the two\n",
    "source nodes are now changed to 1 mg/L, 2 mg/L, and 40 ug/L, respectively.\"\"\""
   ]
  },
  {
   "cell_type": "code",
   "execution_count": null,
   "id": "43e6a230",
   "metadata": {},
   "outputs": [],
   "source": [
    "# Executing EPyT-C\n",
    "execute_epytc(epytc)"
   ]
  }
 ],
 "metadata": {
  "jupytext": {
   "cell_metadata_filter": "-all",
   "main_language": "python",
   "notebook_metadata_filter": "-all"
  }
 },
 "nbformat": 4,
 "nbformat_minor": 5
}
