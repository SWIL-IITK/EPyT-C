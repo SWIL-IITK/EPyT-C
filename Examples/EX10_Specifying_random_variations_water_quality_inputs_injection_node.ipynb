{
 "cells": [
  {
   "cell_type": "markdown",
   "id": "d7e41507",
   "metadata": {},
   "source": [
    "This example contains:\n",
    "- Import EPyT-C.\n",
    "- Specify the INP file name of the network to be simulated.\n",
    "- Specify the number of Monte Carlo simulations to be performed.\n",
    "- Specify the number of days for which water quality needs to be simulated.\n",
    "- Specify the time step in seconds for water quality simulation.\n",
    "- Add water quality parameter input values for the source nodes.\n",
    "- Specify the injection node.\n",
    "- Add water quality parameter input values for the injection node.\n",
    "- Specify the type of variations in the water quality values for the\n",
    "injection node over iterations.\n",
    "- Specify the range (%) of random variations in the water quality values for\n",
    "the injection node over iterations.\n",
    "- Run EPyT-C for water quality analysis.\n",
    "\n",
    "The results are saved as .XLSX files by default."
   ]
  },
  {
   "cell_type": "code",
   "execution_count": null,
   "id": "e2fe8542",
   "metadata": {},
   "outputs": [],
   "source": [
    "# Importing EPyT-C\n",
    "from epyt_c.main_epytc import create_epytc, execute_epytc\n",
    "import os"
   ]
  },
  {
   "cell_type": "code",
   "execution_count": null,
   "id": "9a0c468e",
   "metadata": {},
   "outputs": [],
   "source": [
    "# create an epytc_class instace\n",
    "epytc = create_epytc()"
   ]
  },
  {
   "cell_type": "code",
   "execution_count": null,
   "id": "7e9a66c5",
   "metadata": {},
   "outputs": [],
   "source": [
    "# Specify the network name\n",
    "epytc.network_name = os.path.join(os.path.dirname(os.path.realpath(__file__)), \"..\", \"epyt_c\", \"Networks\", \"Net3.inp\")"
   ]
  },
  {
   "cell_type": "code",
   "execution_count": null,
   "id": "21e3a8cd",
   "metadata": {},
   "outputs": [],
   "source": [
    "# Sspecify the number of simulations\n",
    "epytc.maximum_iterations_required = 50"
   ]
  },
  {
   "cell_type": "code",
   "execution_count": null,
   "id": "25f038e2",
   "metadata": {},
   "outputs": [],
   "source": [
    "# Specify the simulation period (days)\n",
    "epytc.simulation_period_days = 10"
   ]
  },
  {
   "cell_type": "code",
   "execution_count": null,
   "id": "25349859",
   "metadata": {},
   "outputs": [],
   "source": [
    "# Specify the simulation time step (seconds)\n",
    "epytc.simulation_time_step = 300"
   ]
  },
  {
   "cell_type": "code",
   "execution_count": null,
   "id": "9944ca30",
   "metadata": {},
   "outputs": [],
   "source": [
    "# Add water quality at the source nodes\n",
    "epytc.reservoir_quality_matrix = [[1, 2, 40], [1, 2, 40]]"
   ]
  },
  {
   "cell_type": "code",
   "execution_count": null,
   "id": "e4446ef5",
   "metadata": {},
   "outputs": [],
   "source": [
    "# Specify the injection node\n",
    "epytc.injection_nodes_index = [21]"
   ]
  },
  {
   "cell_type": "code",
   "execution_count": null,
   "id": "b91fd4a8",
   "metadata": {},
   "outputs": [],
   "source": [
    "# Add water quality at the injection node\n",
    "epytc.injection_nodes_quality_matrix = [[2, 0, 0]]"
   ]
  },
  {
   "cell_type": "markdown",
   "id": "f62f80fd",
   "metadata": {},
   "source": [
    "By default, no variation is specified for water quality values for the\n",
    "injection nodes over iterations.\n",
    "To specify random variations, use the following code:"
   ]
  },
  {
   "cell_type": "code",
   "execution_count": null,
   "id": "f98b02ec",
   "metadata": {},
   "outputs": [],
   "source": [
    "epytc.injection_node_quality_pattern = \"rand\""
   ]
  },
  {
   "cell_type": "markdown",
   "id": "30974c40",
   "metadata": {},
   "source": [
    "Random variations to the water water quality values for the injection node\n",
    "over iterations has been now specified."
   ]
  },
  {
   "cell_type": "markdown",
   "id": "c2e46a67",
   "metadata": {},
   "source": [
    "The defualt range (%) of variations specified for water quality values for\n",
    "the injection nodes over iterations is 0.\n",
    "To specify a value for the range, use the following code:"
   ]
  },
  {
   "cell_type": "code",
   "execution_count": null,
   "id": "99c947bf",
   "metadata": {},
   "outputs": [],
   "source": [
    "epytc.injection_node_quality_pattern_random_variability = 0.25"
   ]
  },
  {
   "cell_type": "markdown",
   "id": "493e3fdd",
   "metadata": {},
   "source": [
    "+/-25% random variations to the water water quality values for the injection\n",
    "node over iterations has been now specified."
   ]
  },
  {
   "cell_type": "code",
   "execution_count": null,
   "id": "d6f12e07",
   "metadata": {},
   "outputs": [],
   "source": [
    "# Executing EPyT-C\n",
    "execute_epytc(epytc)"
   ]
  }
 ],
 "metadata": {
  "jupytext": {
   "cell_metadata_filter": "-all",
   "main_language": "python",
   "notebook_metadata_filter": "-all"
  },
  "language_info": {
   "name": "python"
  }
 },
 "nbformat": 4,
 "nbformat_minor": 5
}
