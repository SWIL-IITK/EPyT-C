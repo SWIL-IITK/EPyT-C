{
 "cells": [
  {
   "cell_type": "markdown",
   "id": "3b99d2e0",
   "metadata": {},
   "source": [
    "This example contains:\n",
    "- Import EPyT-C.\n",
    "- Specify the number of days for which water quality needs to be simulated.\n",
    "- Add water quality parameter input values for the source nodes.\n",
    "- Run EPyT-C for water quality analysis.\n",
    "\n",
    "The results are saved as .XLSX files by default."
   ]
  },
  {
   "cell_type": "code",
   "execution_count": null,
   "id": "cde35508",
   "metadata": {},
   "outputs": [],
   "source": [
    "# Importing EPyT-C\n",
    "from epyt_c.main_epytc import create_epytc, execute_epytc"
   ]
  },
  {
   "cell_type": "code",
   "execution_count": null,
   "id": "3b295dda",
   "metadata": {},
   "outputs": [],
   "source": [
    "# create an epytc_class instace\n",
    "epytc = create_epytc()"
   ]
  },
  {
   "cell_type": "markdown",
   "id": "e62ab796",
   "metadata": {},
   "source": [
    "The default simulation period for EPyT-C is 1 day.\n",
    "To change the simulation period for EPyT-C, use the following code:"
   ]
  },
  {
   "cell_type": "code",
   "execution_count": null,
   "id": "11d1921c",
   "metadata": {},
   "outputs": [],
   "source": [
    "epytc.simulation_period_days = 10"
   ]
  },
  {
   "cell_type": "markdown",
   "id": "6e7fc7f4",
   "metadata": {},
   "source": [
    "The number of days for which water quality needs to be simulated is now\n",
    "changed to 10 days."
   ]
  },
  {
   "cell_type": "code",
   "execution_count": null,
   "id": "f43bc251",
   "metadata": {},
   "outputs": [],
   "source": [
    "# Add water quality at the source nodes\n",
    "epytc.reservoir_quality_matrix = [[1, 2, 40], [1, 2, 40]]"
   ]
  },
  {
   "cell_type": "code",
   "execution_count": null,
   "id": "bf4adb1c",
   "metadata": {},
   "outputs": [],
   "source": [
    "# Executing EPyT-C\n",
    "execute_epytc(epytc)"
   ]
  }
 ],
 "metadata": {
  "jupytext": {
   "cell_metadata_filter": "-all",
   "main_language": "python",
   "notebook_metadata_filter": "-all"
  },
  "language_info": {
   "name": "python"
  }
 },
 "nbformat": 4,
 "nbformat_minor": 5
}
