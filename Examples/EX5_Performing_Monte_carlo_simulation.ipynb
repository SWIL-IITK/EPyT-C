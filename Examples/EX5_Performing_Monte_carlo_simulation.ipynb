{
 "cells": [
  {
   "cell_type": "code",
   "execution_count": null,
   "id": "8028cf06",
   "metadata": {},
   "outputs": [],
   "source": [
    "# Importing EPyT-C\n",
    "from epyt_c.main_epytc import create_epytc, execute_epytc\n",
    "import os"
   ]
  },
  {
   "cell_type": "code",
   "execution_count": null,
   "id": "a6834d30",
   "metadata": {},
   "outputs": [],
   "source": [
    "print(\n",
    "    \"\"\"  EPyT-C Example 5\n",
    "\n",
    "   This example contains:\n",
    "    Import EPyT-C.\n",
    "    Specify the INP file name of the network to be simulated.\n",
    "    Specify the number of Monte Carlo simulations to be performed.\n",
    "    Specify the number of days for which water quality needs to be simulated.\n",
    "    Specify the time step in seconds for water quality simulation.\n",
    "    Add water quality parameter input values for the source nodes.\n",
    "    Run EPyT-C for water quality analysis.\n",
    "\n",
    "        The results are saved as .XLSX files by default.\n",
    "\n",
    "\"\"\"\n",
    ")"
   ]
  },
  {
   "cell_type": "code",
   "execution_count": null,
   "id": "824d6563",
   "metadata": {},
   "outputs": [],
   "source": [
    "# create an instance of epytc_class\n",
    "epytc = create_epytc()"
   ]
  },
  {
   "cell_type": "code",
   "execution_count": null,
   "id": "bcc1f200",
   "metadata": {},
   "outputs": [],
   "source": [
    "# Specify the network name\n",
    "epytc.network_name = os.path.join(os.path.dirname(os.path.realpath(__file__)), \"..\", \"epyt_c\", \"Networks\", \"Net3.inp\")"
   ]
  },
  {
   "cell_type": "code",
   "execution_count": null,
   "id": "c2c3eb8d",
   "metadata": {},
   "outputs": [],
   "source": [
    "\"\"\"The default number of simulations in EPyT-C is 1.\n",
    "To specify the number of Monte Carlo simulations, use the following code:\"\"\""
   ]
  },
  {
   "cell_type": "code",
   "execution_count": null,
   "id": "11b9df90",
   "metadata": {},
   "outputs": [],
   "source": [
    "epytc.maximum_iterations_required = 50"
   ]
  },
  {
   "cell_type": "code",
   "execution_count": null,
   "id": "2900086d",
   "metadata": {},
   "outputs": [],
   "source": [
    "\"\"\"The number of simulations is now changed to 50\"\"\""
   ]
  },
  {
   "cell_type": "code",
   "execution_count": null,
   "id": "cf7163d0",
   "metadata": {},
   "outputs": [],
   "source": [
    "# Specify the simulation period (days)\n",
    "epytc.simulation_period_days = 10"
   ]
  },
  {
   "cell_type": "code",
   "execution_count": null,
   "id": "26a1d7af",
   "metadata": {},
   "outputs": [],
   "source": [
    "# Specify the simulation time step (seconds)\n",
    "epytc.simulation_time_step = 300"
   ]
  },
  {
   "cell_type": "code",
   "execution_count": null,
   "id": "4b07c953",
   "metadata": {},
   "outputs": [],
   "source": [
    "# Add water quality at the source nodes\n",
    "epytc.reservoir_quality_matrix = [[1, 2, 40], [1, 2, 40]]"
   ]
  },
  {
   "cell_type": "code",
   "execution_count": null,
   "id": "9993ba55",
   "metadata": {},
   "outputs": [],
   "source": [
    "# Executing EPyT-C\n",
    "execute_epytc(epytc)"
   ]
  }
 ],
 "metadata": {
  "jupytext": {
   "cell_metadata_filter": "-all",
   "main_language": "python",
   "notebook_metadata_filter": "-all"
  }
 },
 "nbformat": 4,
 "nbformat_minor": 5
}
