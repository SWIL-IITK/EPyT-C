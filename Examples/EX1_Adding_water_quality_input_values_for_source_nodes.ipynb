{
 "cells": [
  {
   "cell_type": "markdown",
   "id": "b1dbed61-d7eb-4333-a597-9ece4b79702e",
   "metadata": {},
   "source": [
    "This example contains:\n",
    "- Import EPyT-C.\n",
    "- Specify the INP file name of the network to be simulated.\n",
    "- Add water quality parameter input values for the source nodes.\n",
    "- Run EPyT-C for water quality analysis.\n",
    "\n",
    "The results are saved as .XLSX files by default."
   ]
  },
  {
   "cell_type": "code",
   "execution_count": 1,
   "id": "e78c1eaa",
   "metadata": {},
   "outputs": [],
   "source": [
    "# Importing EPyT-C\n",
    "import os\n",
    "from epyt_c.main_epytc import create_epytc, execute_epytc"
   ]
  },
  {
   "cell_type": "markdown",
   "id": "f0187f2b-ffe0-4289-b74a-4c25344c4c82",
   "metadata": {},
   "source": [
    "The default .INP file for EPyT-C is Net3.inp with two source nodes\n",
    "(River and Lake). Thus, the default input for water quality at the source\n",
    "nodes is [[0, 0, 0], [0, 0, 0]] corresponding to the default MSRT module\n",
    "Chlorine decay and trihalomethanes formation module\n",
    "('chlorine_decay_thms_formation', i.e., MSRT-1).\n",
    "\n",
    "Change the water quality at the source nodes as follows."
   ]
  },
  {
   "cell_type": "code",
   "execution_count": 2,
   "id": "b137a28a",
   "metadata": {},
   "outputs": [
    {
     "name": "stdout",
     "output_type": "stream",
     "text": [
      "Creating instance of EPyT-C with default values\n"
     ]
    }
   ],
   "source": [
    "# Create an epytc_class with default values\n",
    "epytc = create_epytc()"
   ]
  },
  {
   "cell_type": "code",
   "execution_count": 3,
   "id": "0b355c01-87bc-4def-8ea4-cbd38ad8facf",
   "metadata": {},
   "outputs": [],
   "source": [
    "# Enter the full path to the INP file below after 'r'\n",
    "path_name = r\"C:\\Users\\Abhijith\\Documents\\GitHub\\EPyT-C\\Networks\\Net3.inp\"\n",
    "epytc.network_name = os.path.normpath(path_name)"
   ]
  },
  {
   "cell_type": "code",
   "execution_count": 4,
   "id": "b94491cd",
   "metadata": {},
   "outputs": [],
   "source": [
    "# Add water quality at the source node\n",
    "epytc.reservoir_quality_matrix = [[1, 2, 40], [1, 2, 40]]"
   ]
  },
  {
   "cell_type": "markdown",
   "id": "820870e6-50df-456e-896e-93d89da2be99",
   "metadata": {},
   "source": [
    "The bulk water quality parameters (Chlorine, TOC, and THMs) at the two\n",
    "source nodes are now changed to 1 mg/L, 2 mg/L, and 40 ug/L, respectively."
   ]
  },
  {
   "cell_type": "code",
   "execution_count": 5,
   "id": "43e6a230",
   "metadata": {},
   "outputs": [
    {
     "name": "stdout",
     "output_type": "stream",
     "text": [
      "EPyT-C loaded for execution...\n",
      "Chlorine decay and trihalomethanes formation module loaded.\n",
      "Reactive species (bulk):\n",
      "Chlorine (mg-Cl/L)\n",
      "TOC (mg-C/L)\n",
      "THMs (ug-THM/L)\n",
      "EPANET version 20200 loaded (EPyT version 1.0.7).\n",
      "Input File Net3.inp loaded successfully.\n",
      "\n",
      "Reservoir 1: River\n",
      "Reservoir 2: Lake\n",
      "Tank 1: 1\n",
      "Tank 2: 2\n",
      "Tank 3: 3\n",
      "Pump 1: 10\n",
      "Pump 2: 335\n",
      "Number of iterations: 1\n",
      "Number of days for which water quality is simulated: 1\n",
      "Time period for water quality simulation: 300 seconds\n",
      "Number of water quality simulation steps: 289\n",
      "Number of water quality parameters in the MSRT model: 3\n",
      "Number of bulk phase water quality paraneters: 3\n",
      "Number of wall phase water quality paraneters: 0\n",
      "Reservoir quality updated.\n",
      "Injection nodes quality updated.\n",
      "Water quality simulation (Iteration 1) is starting...\n",
      "Hydraulic analysis simulation period: 10 days\n",
      "Time period for hydraulic analysis: 3600 seconds\n",
      "Analysis with EPANET completed...\n",
      "Information successfully stored.\n",
      "Filtering hydraulic analysis report.\n",
      "Water quality simulation started...\n",
      "Water quality simulation step (Iteration 1/ 1): 1 (/ 289)\n",
      "Water quality simulation step (Iteration 1/ 1): 2 (/ 289)\n",
      "Water quality simulation step (Iteration 1/ 1): 3 (/ 289)\n",
      "Water quality simulation step (Iteration 1/ 1): 4 (/ 289)\n",
      "Water quality simulation step (Iteration 1/ 1): 5 (/ 289)\n",
      "Water quality simulation step (Iteration 1/ 1): 6 (/ 289)\n",
      "Water quality simulation step (Iteration 1/ 1): 7 (/ 289)\n",
      "Water quality simulation step (Iteration 1/ 1): 8 (/ 289)\n",
      "Water quality simulation step (Iteration 1/ 1): 9 (/ 289)\n",
      "Water quality simulation step (Iteration 1/ 1): 10 (/ 289)\n",
      "Water quality simulation step (Iteration 1/ 1): 11 (/ 289)\n",
      "Water quality simulation step (Iteration 1/ 1): 12 (/ 289)\n",
      "Water quality simulation step (Iteration 1/ 1): 13 (/ 289)\n",
      "Water quality simulation step (Iteration 1/ 1): 14 (/ 289)\n",
      "Water quality simulation step (Iteration 1/ 1): 15 (/ 289)\n",
      "Water quality simulation step (Iteration 1/ 1): 16 (/ 289)\n",
      "Water quality simulation step (Iteration 1/ 1): 17 (/ 289)\n",
      "Water quality simulation step (Iteration 1/ 1): 18 (/ 289)\n",
      "Water quality simulation step (Iteration 1/ 1): 19 (/ 289)\n",
      "Water quality simulation step (Iteration 1/ 1): 20 (/ 289)\n",
      "Water quality simulation step (Iteration 1/ 1): 21 (/ 289)\n",
      "Water quality simulation step (Iteration 1/ 1): 22 (/ 289)\n",
      "Water quality simulation step (Iteration 1/ 1): 23 (/ 289)\n",
      "Water quality simulation step (Iteration 1/ 1): 24 (/ 289)\n",
      "Water quality simulation step (Iteration 1/ 1): 25 (/ 289)\n",
      "Water quality simulation step (Iteration 1/ 1): 26 (/ 289)\n",
      "Water quality simulation step (Iteration 1/ 1): 27 (/ 289)\n",
      "Water quality simulation step (Iteration 1/ 1): 28 (/ 289)\n",
      "Water quality simulation step (Iteration 1/ 1): 29 (/ 289)\n",
      "Water quality simulation step (Iteration 1/ 1): 30 (/ 289)\n",
      "Water quality simulation step (Iteration 1/ 1): 31 (/ 289)\n",
      "Water quality simulation step (Iteration 1/ 1): 32 (/ 289)\n",
      "Water quality simulation step (Iteration 1/ 1): 33 (/ 289)\n",
      "Water quality simulation step (Iteration 1/ 1): 34 (/ 289)\n",
      "Water quality simulation step (Iteration 1/ 1): 35 (/ 289)\n",
      "Water quality simulation step (Iteration 1/ 1): 36 (/ 289)\n",
      "Water quality simulation step (Iteration 1/ 1): 37 (/ 289)\n",
      "Water quality simulation step (Iteration 1/ 1): 38 (/ 289)\n",
      "Water quality simulation step (Iteration 1/ 1): 39 (/ 289)\n",
      "Water quality simulation step (Iteration 1/ 1): 40 (/ 289)\n",
      "Water quality simulation step (Iteration 1/ 1): 41 (/ 289)\n",
      "Water quality simulation step (Iteration 1/ 1): 42 (/ 289)\n",
      "Water quality simulation step (Iteration 1/ 1): 43 (/ 289)\n",
      "Water quality simulation step (Iteration 1/ 1): 44 (/ 289)\n",
      "Water quality simulation step (Iteration 1/ 1): 45 (/ 289)\n",
      "Water quality simulation step (Iteration 1/ 1): 46 (/ 289)\n",
      "Water quality simulation step (Iteration 1/ 1): 47 (/ 289)\n",
      "Water quality simulation step (Iteration 1/ 1): 48 (/ 289)\n",
      "Water quality simulation step (Iteration 1/ 1): 49 (/ 289)\n",
      "Water quality simulation step (Iteration 1/ 1): 50 (/ 289)\n",
      "Water quality simulation step (Iteration 1/ 1): 51 (/ 289)\n",
      "Water quality simulation step (Iteration 1/ 1): 52 (/ 289)\n",
      "Water quality simulation step (Iteration 1/ 1): 53 (/ 289)\n",
      "Water quality simulation step (Iteration 1/ 1): 54 (/ 289)\n",
      "Water quality simulation step (Iteration 1/ 1): 55 (/ 289)\n",
      "Water quality simulation step (Iteration 1/ 1): 56 (/ 289)\n",
      "Water quality simulation step (Iteration 1/ 1): 57 (/ 289)\n",
      "Water quality simulation step (Iteration 1/ 1): 58 (/ 289)\n",
      "Water quality simulation step (Iteration 1/ 1): 59 (/ 289)\n",
      "Water quality simulation step (Iteration 1/ 1): 60 (/ 289)\n",
      "Water quality simulation step (Iteration 1/ 1): 61 (/ 289)\n",
      "Water quality simulation step (Iteration 1/ 1): 62 (/ 289)\n",
      "Water quality simulation step (Iteration 1/ 1): 63 (/ 289)\n",
      "Water quality simulation step (Iteration 1/ 1): 64 (/ 289)\n",
      "Water quality simulation step (Iteration 1/ 1): 65 (/ 289)\n",
      "Water quality simulation step (Iteration 1/ 1): 66 (/ 289)\n",
      "Water quality simulation step (Iteration 1/ 1): 67 (/ 289)\n",
      "Water quality simulation step (Iteration 1/ 1): 68 (/ 289)\n",
      "Water quality simulation step (Iteration 1/ 1): 69 (/ 289)\n",
      "Water quality simulation step (Iteration 1/ 1): 70 (/ 289)\n",
      "Water quality simulation step (Iteration 1/ 1): 71 (/ 289)\n",
      "Water quality simulation step (Iteration 1/ 1): 72 (/ 289)\n",
      "Water quality simulation step (Iteration 1/ 1): 73 (/ 289)\n",
      "Water quality simulation step (Iteration 1/ 1): 74 (/ 289)\n",
      "Water quality simulation step (Iteration 1/ 1): 75 (/ 289)\n"
     ]
    },
    {
     "ename": "KeyboardInterrupt",
     "evalue": "",
     "output_type": "error",
     "traceback": [
      "\u001b[1;31m---------------------------------------------------------------------------\u001b[0m",
      "\u001b[1;31mKeyboardInterrupt\u001b[0m                         Traceback (most recent call last)",
      "Cell \u001b[1;32mIn[5], line 2\u001b[0m\n\u001b[0;32m      1\u001b[0m \u001b[38;5;66;03m# Executing EPyT-C\u001b[39;00m\n\u001b[1;32m----> 2\u001b[0m \u001b[43mexecute_epytc\u001b[49m\u001b[43m(\u001b[49m\u001b[43mepytc\u001b[49m\u001b[43m)\u001b[49m\n",
      "File \u001b[1;32m~\\Documents\\GitHub\\EPyT-C\\epyt_c\\main_epytc.py:47\u001b[0m, in \u001b[0;36mexecute_epytc\u001b[1;34m(epytc)\u001b[0m\n\u001b[0;32m     45\u001b[0m \u001b[38;5;28;01mdef\u001b[39;00m \u001b[38;5;21mexecute_epytc\u001b[39m(epytc: epytc_class):\n\u001b[0;32m     46\u001b[0m     \u001b[38;5;28mprint\u001b[39m(\u001b[38;5;124m\"\u001b[39m\u001b[38;5;124mEPyT-C loaded for execution...\u001b[39m\u001b[38;5;124m\"\u001b[39m)\n\u001b[1;32m---> 47\u001b[0m     \u001b[43mrun_epytc\u001b[49m\u001b[43m(\u001b[49m\u001b[43mepytc\u001b[49m\u001b[43m)\u001b[49m\n",
      "File \u001b[1;32m~\\Documents\\GitHub\\EPyT-C\\epyt_c\\run_epyt_c.py:411\u001b[0m, in \u001b[0;36mrun_epytc\u001b[1;34m(epytc)\u001b[0m\n\u001b[0;32m    409\u001b[0m                     \u001b[38;5;28;01mfor\u001b[39;00m sp \u001b[38;5;129;01min\u001b[39;00m \u001b[38;5;28mrange\u001b[39m(wq_parameter_num):\n\u001b[0;32m    410\u001b[0m                         link_conc_array_a[sp][i][p] \u001b[38;5;241m=\u001b[39m link_conc_array_a[sp][i][p] \u001b[38;5;241m+\u001b[39m delta[sp]\n\u001b[1;32m--> 411\u001b[0m             link_conc_array_a[link_conc_array_a \u001b[38;5;241m<\u001b[39m \u001b[38;5;241m0\u001b[39m] \u001b[38;5;241m=\u001b[39m \u001b[38;5;241m0\u001b[39m\n\u001b[0;32m    412\u001b[0m \u001b[38;5;28;01mif\u001b[39;00m count_links_lagrangian \u001b[38;5;241m!=\u001b[39m (num_links \u001b[38;5;241m-\u001b[39m num_omitted_links):\n\u001b[0;32m    413\u001b[0m     \u001b[38;5;28mprint\u001b[39m(\u001b[38;5;124m\"\u001b[39m\u001b[38;5;124mError in Lagrangian stage dedicated to pipes!\u001b[39m\u001b[38;5;124m\"\u001b[39m)\n",
      "\u001b[1;31mKeyboardInterrupt\u001b[0m: "
     ]
    }
   ],
   "source": [
    "# Executing EPyT-C\n",
    "execute_epytc(epytc)"
   ]
  },
  {
   "cell_type": "code",
   "execution_count": null,
   "id": "662c54f7-27e1-47ee-808a-e7978d96e62a",
   "metadata": {},
   "outputs": [],
   "source": []
  }
 ],
 "metadata": {
  "jupytext": {
   "cell_metadata_filter": "-all",
   "main_language": "python",
   "notebook_metadata_filter": "-all"
  },
  "kernelspec": {
   "display_name": "Python 3 (ipykernel)",
   "language": "python",
   "name": "python3"
  },
  "language_info": {
   "codemirror_mode": {
    "name": "ipython",
    "version": 3
   },
   "file_extension": ".py",
   "mimetype": "text/x-python",
   "name": "python",
   "nbconvert_exporter": "python",
   "pygments_lexer": "ipython3",
   "version": "3.12.1"
  }
 },
 "nbformat": 4,
 "nbformat_minor": 5
}
