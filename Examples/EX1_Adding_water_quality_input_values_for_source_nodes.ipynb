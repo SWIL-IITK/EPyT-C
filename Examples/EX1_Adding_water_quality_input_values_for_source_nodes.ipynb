{
 "cells": [
  {
   "cell_type": "markdown",
   "id": "b1dbed61-d7eb-4333-a597-9ece4b79702e",
   "metadata": {},
   "source": [
    "This example contains:\n",
    "- Import EPyT-C.\n",
    "- Add water quality parameter input values for the source nodes.\n",
    "- Run EPyT-C for water quality analysis.\n",
    "\n",
    "The results are saved as .XLSX files by default."
   ]
  },
  {
   "cell_type": "code",
   "execution_count": 1,
   "id": "e78c1eaa",
   "metadata": {},
   "outputs": [],
   "source": [
    "# Importing EPyT-C\n",
    "from epyt_c.main_epytc import create_epytc, execute_epytc"
   ]
  },
  {
   "cell_type": "markdown",
   "id": "f0187f2b-ffe0-4289-b74a-4c25344c4c82",
   "metadata": {},
   "source": [
    "The default .INP file for EPyT-C is Net3.inp with two source nodes\n",
    "(River and Lake). Thus, the default input for water quality at the source\n",
    "nodes is [[0, 0, 0], [0, 0, 0]] corresponding to the default MSRT module\n",
    "Chlorine decay and trihalomethanes formation module\n",
    "('chlorine_decay_thms_formation', i.e., MSRT-1).\n",
    "\n",
    "Change the water quality at the source nodes as follows."
   ]
  },
  {
   "cell_type": "code",
   "execution_count": 2,
   "id": "b137a28a",
   "metadata": {},
   "outputs": [
    {
     "name": "stdout",
     "output_type": "stream",
     "text": [
      "Creating instance of EPyT-C with default values\n"
     ]
    }
   ],
   "source": [
    "# create an epytc_class with default values\n",
    "epytc = create_epytc()"
   ]
  },
  {
   "cell_type": "code",
   "execution_count": 3,
   "id": "b94491cd",
   "metadata": {},
   "outputs": [],
   "source": [
    "# Add water quality at the source node\n",
    "epytc.reservoir_quality_matrix = [[1, 2, 40], [1, 2, 40]]"
   ]
  },
  {
   "cell_type": "markdown",
   "id": "820870e6-50df-456e-896e-93d89da2be99",
   "metadata": {},
   "source": [
    "The bulk water quality parameters (Chlorine, TOC, and THMs) at the two\n",
    "source nodes are now changed to 1 mg/L, 2 mg/L, and 40 ug/L, respectively."
   ]
  },
  {
   "cell_type": "code",
   "execution_count": 4,
   "id": "43e6a230",
   "metadata": {},
   "outputs": [
    {
     "name": "stdout",
     "output_type": "stream",
     "text": [
      "EPyT-C loaded for execution...\n",
      "Requirement already satisfied: epyt in /Users/jaykrishnang/anaconda3/envs/epytc_x86/lib/python3.9/site-packages (1.0.8)\n",
      "Requirement already satisfied: numpy in /Users/jaykrishnang/anaconda3/envs/epytc_x86/lib/python3.9/site-packages (from epyt) (1.26.3)\n",
      "Requirement already satisfied: matplotlib in /Users/jaykrishnang/anaconda3/envs/epytc_x86/lib/python3.9/site-packages (from epyt) (3.8.2)\n",
      "Requirement already satisfied: pandas in /Users/jaykrishnang/anaconda3/envs/epytc_x86/lib/python3.9/site-packages (from epyt) (2.2.0)\n",
      "Requirement already satisfied: xlsxwriter in /Users/jaykrishnang/anaconda3/envs/epytc_x86/lib/python3.9/site-packages (from epyt) (3.1.9)\n",
      "Requirement already satisfied: contourpy>=1.0.1 in /Users/jaykrishnang/anaconda3/envs/epytc_x86/lib/python3.9/site-packages (from matplotlib->epyt) (1.2.0)\n",
      "Requirement already satisfied: cycler>=0.10 in /Users/jaykrishnang/anaconda3/envs/epytc_x86/lib/python3.9/site-packages (from matplotlib->epyt) (0.12.1)\n",
      "Requirement already satisfied: fonttools>=4.22.0 in /Users/jaykrishnang/anaconda3/envs/epytc_x86/lib/python3.9/site-packages (from matplotlib->epyt) (4.47.2)\n",
      "Requirement already satisfied: kiwisolver>=1.3.1 in /Users/jaykrishnang/anaconda3/envs/epytc_x86/lib/python3.9/site-packages (from matplotlib->epyt) (1.4.5)\n",
      "Requirement already satisfied: packaging>=20.0 in /Users/jaykrishnang/anaconda3/envs/epytc_x86/lib/python3.9/site-packages (from matplotlib->epyt) (23.2)\n",
      "Requirement already satisfied: pillow>=8 in /Users/jaykrishnang/anaconda3/envs/epytc_x86/lib/python3.9/site-packages (from matplotlib->epyt) (10.2.0)\n",
      "Requirement already satisfied: pyparsing>=2.3.1 in /Users/jaykrishnang/anaconda3/envs/epytc_x86/lib/python3.9/site-packages (from matplotlib->epyt) (3.1.1)\n",
      "Requirement already satisfied: python-dateutil>=2.7 in /Users/jaykrishnang/anaconda3/envs/epytc_x86/lib/python3.9/site-packages (from matplotlib->epyt) (2.8.2)\n",
      "Requirement already satisfied: importlib-resources>=3.2.0 in /Users/jaykrishnang/anaconda3/envs/epytc_x86/lib/python3.9/site-packages (from matplotlib->epyt) (6.1.1)\n",
      "Requirement already satisfied: pytz>=2020.1 in /Users/jaykrishnang/anaconda3/envs/epytc_x86/lib/python3.9/site-packages (from pandas->epyt) (2024.1)\n",
      "Requirement already satisfied: tzdata>=2022.7 in /Users/jaykrishnang/anaconda3/envs/epytc_x86/lib/python3.9/site-packages (from pandas->epyt) (2023.4)\n",
      "Requirement already satisfied: zipp>=3.1.0 in /Users/jaykrishnang/anaconda3/envs/epytc_x86/lib/python3.9/site-packages (from importlib-resources>=3.2.0->matplotlib->epyt) (3.17.0)\n",
      "Requirement already satisfied: six>=1.5 in /Users/jaykrishnang/anaconda3/envs/epytc_x86/lib/python3.9/site-packages (from python-dateutil>=2.7->matplotlib->epyt) (1.16.0)\n",
      "Chlorine decay and trihalomethanes formation module loaded.\n",
      "Reactive species (bulk):\n",
      "Chlorine (mg-Cl/L)\n",
      "TOC (mg-C/L)\n",
      "THMs (ug-THM/L)\n",
      "EPANET version 20200 loaded (EPyT version 1.0.7).\n"
     ]
    },
    {
     "name": "stderr",
     "output_type": "stream",
     "text": [
      "/Users/jaykrishnang/anaconda3/envs/epytc_x86/lib/python3.9/site-packages/epyt/epanet.py:11820: UserWarning: Error 302: cannot open input file\n",
      "  warnings.warn(errmssg.value.decode())\n"
     ]
    },
    {
     "ename": "FileNotFoundError",
     "evalue": "[Errno 2] No such file or directory: 'epyt_c/Networks/Net3.inp'",
     "output_type": "error",
     "traceback": [
      "\u001b[0;31m---------------------------------------------------------------------------\u001b[0m",
      "\u001b[0;31mFileNotFoundError\u001b[0m                         Traceback (most recent call last)",
      "Cell \u001b[0;32mIn[4], line 2\u001b[0m\n\u001b[1;32m      1\u001b[0m \u001b[38;5;66;03m# Executing EPyT-C\u001b[39;00m\n\u001b[0;32m----> 2\u001b[0m \u001b[43mexecute_epytc\u001b[49m\u001b[43m(\u001b[49m\u001b[43mepytc\u001b[49m\u001b[43m)\u001b[49m\n",
      "File \u001b[0;32m~/anaconda3/envs/epytc_x86/lib/python3.9/site-packages/epyt_c/main_epytc.py:48\u001b[0m, in \u001b[0;36mexecute_epytc\u001b[0;34m(epytc)\u001b[0m\n\u001b[1;32m     46\u001b[0m \u001b[38;5;28;01mdef\u001b[39;00m \u001b[38;5;21mexecute_epytc\u001b[39m(epytc: epytc_class):\n\u001b[1;32m     47\u001b[0m     \u001b[38;5;28mprint\u001b[39m(\u001b[38;5;124m\"\u001b[39m\u001b[38;5;124mEPyT-C loaded for execution...\u001b[39m\u001b[38;5;124m\"\u001b[39m)\n\u001b[0;32m---> 48\u001b[0m     \u001b[43mrun_epytc\u001b[49m\u001b[43m(\u001b[49m\u001b[43mepytc\u001b[49m\u001b[43m)\u001b[49m\n",
      "File \u001b[0;32m~/anaconda3/envs/epytc_x86/lib/python3.9/site-packages/epyt_c/run_epyt_c.py:63\u001b[0m, in \u001b[0;36mrun_epytc\u001b[0;34m(epytc)\u001b[0m\n\u001b[1;32m     61\u001b[0m sync_option \u001b[38;5;241m=\u001b[39m epytc\u001b[38;5;241m.\u001b[39mhyd_wq_sync_option\n\u001b[1;32m     62\u001b[0m \u001b[38;5;66;03m# Load network\u001b[39;00m\n\u001b[0;32m---> 63\u001b[0m d \u001b[38;5;241m=\u001b[39m \u001b[43mepanet\u001b[49m\u001b[43m(\u001b[49m\u001b[43mepytc\u001b[49m\u001b[38;5;241;43m.\u001b[39;49m\u001b[43mnetwork_name\u001b[49m\u001b[43m)\u001b[49m\n\u001b[1;32m     64\u001b[0m \u001b[38;5;66;03m# Creating variables\u001b[39;00m\n\u001b[1;32m     65\u001b[0m num_nodes \u001b[38;5;241m=\u001b[39m fn\u001b[38;5;241m.\u001b[39mnetwork(d)[\u001b[38;5;241m0\u001b[39m]\n",
      "File \u001b[0;32m~/anaconda3/envs/epytc_x86/lib/python3.9/site-packages/epyt/epanet.py:553\u001b[0m, in \u001b[0;36mepanet.__init__\u001b[0;34m(self, version, loadfile, *argv)\u001b[0m\n\u001b[1;32m    551\u001b[0m \u001b[38;5;28mself\u001b[39m\u001b[38;5;241m.\u001b[39mTempInpFile \u001b[38;5;241m=\u001b[39m \u001b[38;5;28mself\u001b[39m\u001b[38;5;241m.\u001b[39mInputFile[\u001b[38;5;241m0\u001b[39m:\u001b[38;5;241m-\u001b[39m\u001b[38;5;241m4\u001b[39m] \u001b[38;5;241m+\u001b[39m \u001b[38;5;124m'\u001b[39m\u001b[38;5;124m_temp.inp\u001b[39m\u001b[38;5;124m'\u001b[39m\n\u001b[1;32m    552\u001b[0m \u001b[38;5;66;03m# Create a new INP file (Working Copy)\u001b[39;00m\n\u001b[0;32m--> 553\u001b[0m \u001b[43mcopyfile\u001b[49m\u001b[43m(\u001b[49m\u001b[38;5;28;43mself\u001b[39;49m\u001b[38;5;241;43m.\u001b[39;49m\u001b[43mInputFile\u001b[49m\u001b[43m,\u001b[49m\u001b[43m \u001b[49m\u001b[38;5;28;43mself\u001b[39;49m\u001b[38;5;241;43m.\u001b[39;49m\u001b[43mTempInpFile\u001b[49m\u001b[43m)\u001b[49m\n\u001b[1;32m    554\u001b[0m \u001b[38;5;66;03m# self.saveInputFile(self.TempInpFile)\u001b[39;00m\n\u001b[1;32m    555\u001b[0m \u001b[38;5;66;03m# Close input file\u001b[39;00m\n\u001b[1;32m    556\u001b[0m \u001b[38;5;28mself\u001b[39m\u001b[38;5;241m.\u001b[39mcloseNetwork()\n",
      "File \u001b[0;32m~/anaconda3/envs/epytc_x86/lib/python3.9/shutil.py:264\u001b[0m, in \u001b[0;36mcopyfile\u001b[0;34m(src, dst, follow_symlinks)\u001b[0m\n\u001b[1;32m    262\u001b[0m     os\u001b[38;5;241m.\u001b[39msymlink(os\u001b[38;5;241m.\u001b[39mreadlink(src), dst)\n\u001b[1;32m    263\u001b[0m \u001b[38;5;28;01melse\u001b[39;00m:\n\u001b[0;32m--> 264\u001b[0m     \u001b[38;5;28;01mwith\u001b[39;00m \u001b[38;5;28;43mopen\u001b[39;49m\u001b[43m(\u001b[49m\u001b[43msrc\u001b[49m\u001b[43m,\u001b[49m\u001b[43m \u001b[49m\u001b[38;5;124;43m'\u001b[39;49m\u001b[38;5;124;43mrb\u001b[39;49m\u001b[38;5;124;43m'\u001b[39;49m\u001b[43m)\u001b[49m \u001b[38;5;28;01mas\u001b[39;00m fsrc:\n\u001b[1;32m    265\u001b[0m         \u001b[38;5;28;01mtry\u001b[39;00m:\n\u001b[1;32m    266\u001b[0m             \u001b[38;5;28;01mwith\u001b[39;00m \u001b[38;5;28mopen\u001b[39m(dst, \u001b[38;5;124m'\u001b[39m\u001b[38;5;124mwb\u001b[39m\u001b[38;5;124m'\u001b[39m) \u001b[38;5;28;01mas\u001b[39;00m fdst:\n\u001b[1;32m    267\u001b[0m                 \u001b[38;5;66;03m# macOS\u001b[39;00m\n",
      "\u001b[0;31mFileNotFoundError\u001b[0m: [Errno 2] No such file or directory: 'epyt_c/Networks/Net3.inp'"
     ]
    }
   ],
   "source": [
    "# Executing EPyT-C\n",
    "execute_epytc(epytc)"
   ]
  },
  {
   "cell_type": "code",
   "execution_count": null,
   "id": "662c54f7-27e1-47ee-808a-e7978d96e62a",
   "metadata": {},
   "outputs": [],
   "source": []
  }
 ],
 "metadata": {
  "jupytext": {
   "cell_metadata_filter": "-all",
   "main_language": "python",
   "notebook_metadata_filter": "-all"
  },
  "kernelspec": {
   "display_name": "Python 3 (ipykernel)",
   "language": "python",
   "name": "python3"
  },
  "language_info": {
   "codemirror_mode": {
    "name": "ipython",
    "version": 3
   },
   "file_extension": ".py",
   "mimetype": "text/x-python",
   "name": "python",
   "nbconvert_exporter": "python",
   "pygments_lexer": "ipython3",
   "version": "3.9.18"
  }
 },
 "nbformat": 4,
 "nbformat_minor": 5
}
