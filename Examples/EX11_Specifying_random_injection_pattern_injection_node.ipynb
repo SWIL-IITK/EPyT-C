{
 "cells": [
  {
   "cell_type": "markdown",
   "id": "db26d648",
   "metadata": {},
   "source": [
    "This example contains:\n",
    "- Import EPyT-C.\n",
    "- Specify the INP file name of the network to be simulated.\n",
    "- Specify the number of days for which water quality needs to be simulated.\n",
    "- Specify the time step in seconds for water quality simulation.\n",
    "- Add water quality parameter input values for the source nodes.\n",
    "- Specify the injection node.\n",
    "- Add water quality parameter input values for the injection node.\n",
    "- Specify a random pattern for water quality input values for the injection\n",
    "node over time.\n",
    "- Specify the range (%) of random variations in the water quality values for\n",
    "the injection node over time.\n",
    "- Run EPyT-C for water quality analysis.\n",
    "\n",
    "The results are saved as .XLSX files by default."
   ]
  },
  {
   "cell_type": "code",
   "execution_count": null,
   "id": "7446300f",
   "metadata": {},
   "outputs": [],
   "source": [
    "# Importing EPyT-C\n",
    "from epyt_c.main_epytc import create_epytc, execute_epytc\n",
    "import os"
   ]
  },
  {
   "cell_type": "code",
   "execution_count": null,
   "id": "7845f700",
   "metadata": {},
   "outputs": [],
   "source": [
    "# create an epytc_class instace\n",
    "epytc = create_epytc()"
   ]
  },
  {
   "cell_type": "code",
   "execution_count": null,
   "id": "a423c49d",
   "metadata": {},
   "outputs": [],
   "source": [
    "# Specify the network name\n",
    "epytc.network_name = os.path.join(os.getcwd(), \"..\", \"epyt_c\", \"Networks\", \"Net3.inp\")"
   ]
  },
  {
   "cell_type": "code",
   "execution_count": null,
   "id": "b28acb7e",
   "metadata": {},
   "outputs": [],
   "source": [
    "# Specify the simulation period (days)\n",
    "epytc.simulation_period_days = 1"
   ]
  },
  {
   "cell_type": "code",
   "execution_count": null,
   "id": "81735908",
   "metadata": {},
   "outputs": [],
   "source": [
    "# Specify the simulation time step (seconds)\n",
    "epytc.simulation_time_step = 300"
   ]
  },
  {
   "cell_type": "code",
   "execution_count": null,
   "id": "99a0d803",
   "metadata": {},
   "outputs": [],
   "source": [
    "# Add water quality at the source nodes\n",
    "epytc.reservoir_quality_matrix = [[1, 2, 40], [1, 2, 40]]"
   ]
  },
  {
   "cell_type": "code",
   "execution_count": null,
   "id": "3f1cf148",
   "metadata": {},
   "outputs": [],
   "source": [
    "# Specify the injection node\n",
    "epytc.injection_nodes_index = [21]"
   ]
  },
  {
   "cell_type": "code",
   "execution_count": null,
   "id": "f40e0faa",
   "metadata": {},
   "outputs": [],
   "source": [
    "# Add water quality at the injection node\n",
    "epytc.injection_nodes_quality_matrix = [[2, 0, 0]]"
   ]
  },
  {
   "cell_type": "markdown",
   "id": "af86bd88",
   "metadata": {},
   "source": [
    "By default, no variations is specified for water quality values for the\n",
    "injection node over time.\n",
    "To specify random variations over time, use the following code:"
   ]
  },
  {
   "cell_type": "code",
   "execution_count": null,
   "id": "fad6de37",
   "metadata": {},
   "outputs": [],
   "source": [
    "epytc.injection_node_injection_pattern = \"rand\""
   ]
  },
  {
   "cell_type": "markdown",
   "id": "e12f696d",
   "metadata": {},
   "source": [
    "Random variations to the water water quality values for the injection node\n",
    "over time has been now specified."
   ]
  },
  {
   "cell_type": "markdown",
   "id": "104d79da",
   "metadata": {},
   "source": [
    "The defualt range (%) of variations specified for water quality values for\n",
    "the injection node over time is 0.\n",
    "To specify a value for the range, use the following code:"
   ]
  },
  {
   "cell_type": "code",
   "execution_count": null,
   "id": "d40ea6b8",
   "metadata": {},
   "outputs": [],
   "source": [
    "epytc.injection_node_injection_pattern_random_variability = 0.1"
   ]
  },
  {
   "cell_type": "markdown",
   "id": "6072dc7a",
   "metadata": {},
   "source": [
    "+/-10% random variations to the water water quality values for the injection\n",
    "node over time has been now specified."
   ]
  },
  {
   "cell_type": "code",
   "execution_count": null,
   "id": "b5380eeb",
   "metadata": {},
   "outputs": [],
   "source": [
    "# Executing EPyT-C\n",
    "execute_epytc(epytc)"
   ]
  }
 ],
 "metadata": {
  "jupytext": {
   "cell_metadata_filter": "-all",
   "main_language": "python",
   "notebook_metadata_filter": "-all"
  },
  "language_info": {
   "name": "python"
  }
 },
 "nbformat": 4,
 "nbformat_minor": 5
}
