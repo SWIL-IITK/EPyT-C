{
 "cells": [
  {
   "cell_type": "markdown",
   "id": "db26d648",
   "metadata": {},
   "source": [
    "This example contains:\n",
    "- Import EPyT-C.\n",
    "- Specify the INP file name of the network to be simulated.\n",
    "- Specify the number of days for which water quality needs to be simulated.\n",
    "- Specify the time step in seconds for water quality simulation.\n",
    "- Add water quality parameter input values for the source nodes.\n",
    "- Specify the injection node.\n",
    "- Add water quality parameter input values for the injection node.\n",
    "- Specify a random pattern for water quality input values for the injection\n",
    "node over time.\n",
    "- Specify the range (%) of random variations in the water quality values for\n",
    "the injection node over time.\n",
    "- Run EPyT-C for water quality analysis.\n",
    "\n",
    "The results are saved as .XLSX files by default."
   ]
  },
  {
   "cell_type": "code",
   "execution_count": 1,
   "id": "7446300f",
   "metadata": {},
   "outputs": [],
   "source": [
    "# Importing EPyT-C\n",
    "import os\n",
    "from epyt_c.main_epytc import create_epytc, execute_epytc"
   ]
  },
  {
   "cell_type": "code",
   "execution_count": 2,
   "id": "7845f700",
   "metadata": {},
   "outputs": [
    {
     "name": "stdout",
     "output_type": "stream",
     "text": [
      "Creating instance of EPyT-C with default values\n"
     ]
    }
   ],
   "source": [
    "# create an epytc_class instace\n",
    "epytc = create_epytc()"
   ]
  },
  {
   "cell_type": "code",
   "execution_count": null,
   "id": "cd9375cf",
   "metadata": {},
   "outputs": [],
   "source": [
    "root = os.path.dirname(os.path.realpath(__file__))\n",
    "network_name = os.path.join(root, \"..\", \"Networks\", \"Net3.inp\")\n",
    "epytc.network_name = network_name"
   ]
  },
  {
   "cell_type": "code",
   "execution_count": 4,
   "id": "b28acb7e",
   "metadata": {},
   "outputs": [],
   "source": [
    "# Specify the simulation period (days)\n",
    "epytc.simulation_period_days = 1"
   ]
  },
  {
   "cell_type": "code",
   "execution_count": 5,
   "id": "81735908",
   "metadata": {},
   "outputs": [],
   "source": [
    "# Specify the simulation time step (seconds)\n",
    "epytc.simulation_time_step = 300"
   ]
  },
  {
   "cell_type": "code",
   "execution_count": 6,
   "id": "99a0d803",
   "metadata": {},
   "outputs": [],
   "source": [
    "# Add water quality at the source nodes\n",
    "epytc.reservoir_quality_matrix = [[1, 2, 40], [1, 2, 40]]"
   ]
  },
  {
   "cell_type": "code",
   "execution_count": 7,
   "id": "3f1cf148",
   "metadata": {},
   "outputs": [],
   "source": [
    "# Specify the injection node\n",
    "epytc.injection_nodes_index = [21]"
   ]
  },
  {
   "cell_type": "code",
   "execution_count": 8,
   "id": "f40e0faa",
   "metadata": {},
   "outputs": [],
   "source": [
    "# Add water quality at the injection node\n",
    "epytc.injection_nodes_quality_matrix = [[2, 0, 0]]"
   ]
  },
  {
   "cell_type": "markdown",
   "id": "af86bd88",
   "metadata": {},
   "source": [
    "By default, no variations is specified for water quality values for the\n",
    "injection node over time.\n",
    "To specify random variations over time, use the following code:"
   ]
  },
  {
   "cell_type": "code",
   "execution_count": 9,
   "id": "fad6de37",
   "metadata": {},
   "outputs": [],
   "source": [
    "epytc.injection_node_injection_pattern = \"rand\""
   ]
  },
  {
   "cell_type": "markdown",
   "id": "e12f696d",
   "metadata": {},
   "source": [
    "Random variations to the water water quality values for the injection node\n",
    "over time has been now specified."
   ]
  },
  {
   "cell_type": "markdown",
   "id": "104d79da",
   "metadata": {},
   "source": [
    "The defualt range (%) of variations specified for water quality values for\n",
    "the injection node over time is 0.\n",
    "To specify a value for the range, use the following code:"
   ]
  },
  {
   "cell_type": "code",
   "execution_count": 10,
   "id": "d40ea6b8",
   "metadata": {},
   "outputs": [],
   "source": [
    "epytc.injection_node_injection_pattern_random_variability = 0.1"
   ]
  },
  {
   "cell_type": "markdown",
   "id": "6072dc7a",
   "metadata": {},
   "source": [
    "+/-10% random variations to the water water quality values for the injection\n",
    "node over time has been now specified."
   ]
  },
  {
   "cell_type": "code",
   "execution_count": 11,
   "id": "b5380eeb",
   "metadata": {},
   "outputs": [
    {
     "name": "stdout",
     "output_type": "stream",
     "text": [
      "EPyT-C loaded for execution...\n",
      "Chlorine decay and trihalomethanes formation module loaded.\n",
      "Reactive species (bulk):\n",
      "Chlorine (mg-Cl/L)\n",
      "TOC (mg-C/L)\n",
      "THMs (ug-THM/L)\n",
      "EPANET version 20200 loaded (EPyT version 1.0.7).\n",
      "Input File Net3.inp loaded successfully.\n",
      "\n",
      "Reservoir 1: River\n",
      "Reservoir 2: Lake\n",
      "Tank 1: 1\n",
      "Tank 2: 2\n",
      "Tank 3: 3\n",
      "Pump 1: 10\n",
      "Pump 2: 335\n",
      "Number of iterations: 1\n",
      "Number of days for which water quality is simulated: 1\n",
      "Time period for water quality simulation: 300 seconds\n",
      "Number of water quality simulation steps: 289\n",
      "Number of water quality parameters in the MSRT model: 3\n",
      "Number of bulk phase water quality paraneters: 3\n",
      "Number of wall phase water quality paraneters: 0\n",
      "Reservoir quality updated.\n",
      "Reservoir quality updated.\n",
      "Injection nodes quality updated.\n",
      "Water quality simulation (Iteration 1) is starting...\n",
      "Hydraulic analysis simulation period: 10 days\n",
      "Time period for hydraulic analysis: 3600 seconds\n",
      "Analysis with EPANET completed...\n",
      "Information successfully stored.\n",
      "Filtering hydraulic analysis report.\n",
      "Water quality simulation started...\n",
      "Water quality simulation step (Iteration 1/ 1): 1 (/ 289)\n",
      "Water quality simulation step (Iteration 1/ 1): 2 (/ 289)\n",
      "Water quality simulation step (Iteration 1/ 1): 3 (/ 289)\n",
      "Water quality simulation step (Iteration 1/ 1): 4 (/ 289)\n",
      "Water quality simulation step (Iteration 1/ 1): 5 (/ 289)\n",
      "Water quality simulation step (Iteration 1/ 1): 6 (/ 289)\n",
      "Water quality simulation step (Iteration 1/ 1): 7 (/ 289)\n",
      "Water quality simulation step (Iteration 1/ 1): 8 (/ 289)\n",
      "Water quality simulation step (Iteration 1/ 1): 9 (/ 289)\n",
      "Water quality simulation step (Iteration 1/ 1): 10 (/ 289)\n",
      "Water quality simulation step (Iteration 1/ 1): 11 (/ 289)\n",
      "Water quality simulation step (Iteration 1/ 1): 12 (/ 289)\n",
      "Water quality simulation step (Iteration 1/ 1): 13 (/ 289)\n",
      "Water quality simulation step (Iteration 1/ 1): 14 (/ 289)\n",
      "Water quality simulation step (Iteration 1/ 1): 15 (/ 289)\n",
      "Water quality simulation step (Iteration 1/ 1): 16 (/ 289)\n",
      "Water quality simulation step (Iteration 1/ 1): 17 (/ 289)\n",
      "Water quality simulation step (Iteration 1/ 1): 18 (/ 289)\n",
      "Water quality simulation step (Iteration 1/ 1): 19 (/ 289)\n",
      "Water quality simulation step (Iteration 1/ 1): 20 (/ 289)\n",
      "Water quality simulation step (Iteration 1/ 1): 21 (/ 289)\n",
      "Water quality simulation step (Iteration 1/ 1): 22 (/ 289)\n",
      "Water quality simulation step (Iteration 1/ 1): 23 (/ 289)\n",
      "Water quality simulation step (Iteration 1/ 1): 24 (/ 289)\n",
      "Water quality simulation step (Iteration 1/ 1): 25 (/ 289)\n",
      "Water quality simulation step (Iteration 1/ 1): 26 (/ 289)\n",
      "Water quality simulation step (Iteration 1/ 1): 27 (/ 289)\n",
      "Water quality simulation step (Iteration 1/ 1): 28 (/ 289)\n",
      "Water quality simulation step (Iteration 1/ 1): 29 (/ 289)\n",
      "Water quality simulation step (Iteration 1/ 1): 30 (/ 289)\n",
      "Water quality simulation step (Iteration 1/ 1): 31 (/ 289)\n",
      "Water quality simulation step (Iteration 1/ 1): 32 (/ 289)\n",
      "Water quality simulation step (Iteration 1/ 1): 33 (/ 289)\n",
      "Water quality simulation step (Iteration 1/ 1): 34 (/ 289)\n",
      "Water quality simulation step (Iteration 1/ 1): 35 (/ 289)\n",
      "Water quality simulation step (Iteration 1/ 1): 36 (/ 289)\n",
      "Water quality simulation step (Iteration 1/ 1): 37 (/ 289)\n",
      "Water quality simulation step (Iteration 1/ 1): 38 (/ 289)\n",
      "Water quality simulation step (Iteration 1/ 1): 39 (/ 289)\n",
      "Water quality simulation step (Iteration 1/ 1): 40 (/ 289)\n",
      "Water quality simulation step (Iteration 1/ 1): 41 (/ 289)\n",
      "Water quality simulation step (Iteration 1/ 1): 42 (/ 289)\n",
      "Water quality simulation step (Iteration 1/ 1): 43 (/ 289)\n",
      "Water quality simulation step (Iteration 1/ 1): 44 (/ 289)\n",
      "Water quality simulation step (Iteration 1/ 1): 45 (/ 289)\n",
      "Water quality simulation step (Iteration 1/ 1): 46 (/ 289)\n",
      "Water quality simulation step (Iteration 1/ 1): 47 (/ 289)\n",
      "Water quality simulation step (Iteration 1/ 1): 48 (/ 289)\n",
      "Water quality simulation step (Iteration 1/ 1): 49 (/ 289)\n",
      "Water quality simulation step (Iteration 1/ 1): 50 (/ 289)\n",
      "Water quality simulation step (Iteration 1/ 1): 51 (/ 289)\n",
      "Water quality simulation step (Iteration 1/ 1): 52 (/ 289)\n"
     ]
    },
    {
     "ename": "KeyboardInterrupt",
     "evalue": "",
     "output_type": "error",
     "traceback": [
      "\u001b[1;31m---------------------------------------------------------------------------\u001b[0m",
      "\u001b[1;31mKeyboardInterrupt\u001b[0m                         Traceback (most recent call last)",
      "Cell \u001b[1;32mIn[11], line 2\u001b[0m\n\u001b[0;32m      1\u001b[0m \u001b[38;5;66;03m# Executing EPyT-C\u001b[39;00m\n\u001b[1;32m----> 2\u001b[0m \u001b[43mexecute_epytc\u001b[49m\u001b[43m(\u001b[49m\u001b[43mepytc\u001b[49m\u001b[43m)\u001b[49m\n",
      "File \u001b[1;32m~\\Documents\\GitHub\\EPyT-C\\epyt_c\\main_epytc.py:47\u001b[0m, in \u001b[0;36mexecute_epytc\u001b[1;34m(epytc)\u001b[0m\n\u001b[0;32m     45\u001b[0m \u001b[38;5;28;01mdef\u001b[39;00m \u001b[38;5;21mexecute_epytc\u001b[39m(epytc: epytc_class):\n\u001b[0;32m     46\u001b[0m     \u001b[38;5;28mprint\u001b[39m(\u001b[38;5;124m\"\u001b[39m\u001b[38;5;124mEPyT-C loaded for execution...\u001b[39m\u001b[38;5;124m\"\u001b[39m)\n\u001b[1;32m---> 47\u001b[0m     \u001b[43mrun_epytc\u001b[49m\u001b[43m(\u001b[49m\u001b[43mepytc\u001b[49m\u001b[43m)\u001b[49m\n",
      "File \u001b[1;32m~\\Documents\\GitHub\\EPyT-C\\epyt_c\\run_epyt_c.py:410\u001b[0m, in \u001b[0;36mrun_epytc\u001b[1;34m(epytc)\u001b[0m\n\u001b[0;32m    398\u001b[0m                     delta \u001b[38;5;241m=\u001b[39m module\u001b[38;5;241m.\u001b[39mpipe_reaction(\n\u001b[0;32m    399\u001b[0m                         wq_sim_time_step_s,\n\u001b[0;32m    400\u001b[0m                         p,\n\u001b[1;32m   (...)\u001b[0m\n\u001b[0;32m    407\u001b[0m                         link_conc_array_a,\n\u001b[0;32m    408\u001b[0m                     )\n\u001b[0;32m    409\u001b[0m                     \u001b[38;5;28;01mfor\u001b[39;00m sp \u001b[38;5;129;01min\u001b[39;00m \u001b[38;5;28mrange\u001b[39m(wq_parameter_num):\n\u001b[1;32m--> 410\u001b[0m                         link_conc_array_a[sp][i][p] \u001b[38;5;241m=\u001b[39m link_conc_array_a[sp][i][p] \u001b[38;5;241m+\u001b[39m delta[sp]\n\u001b[0;32m    411\u001b[0m             link_conc_array_a[link_conc_array_a \u001b[38;5;241m<\u001b[39m \u001b[38;5;241m0\u001b[39m] \u001b[38;5;241m=\u001b[39m \u001b[38;5;241m0\u001b[39m\n\u001b[0;32m    412\u001b[0m \u001b[38;5;28;01mif\u001b[39;00m count_links_lagrangian \u001b[38;5;241m!=\u001b[39m (num_links \u001b[38;5;241m-\u001b[39m num_omitted_links):\n",
      "\u001b[1;31mKeyboardInterrupt\u001b[0m: "
     ]
    }
   ],
   "source": [
    "# Executing EPyT-C\n",
    "execute_epytc(epytc)"
   ]
  }
 ],
 "metadata": {
  "jupytext": {
   "cell_metadata_filter": "-all",
   "main_language": "python",
   "notebook_metadata_filter": "-all"
  },
  "kernelspec": {
   "display_name": "Python 3 (ipykernel)",
   "language": "python",
   "name": "python3"
  },
  "language_info": {
   "codemirror_mode": {
    "name": "ipython",
    "version": 3
   },
   "file_extension": ".py",
   "mimetype": "text/x-python",
   "name": "python",
   "nbconvert_exporter": "python",
   "pygments_lexer": "ipython3",
   "version": "3.12.1"
  }
 },
 "nbformat": 4,
 "nbformat_minor": 5
}
