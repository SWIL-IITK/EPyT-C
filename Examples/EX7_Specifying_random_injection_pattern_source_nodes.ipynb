{
 "cells": [
  {
   "cell_type": "markdown",
   "id": "63950e95",
   "metadata": {},
   "source": [
    "This example contains:\n",
    "- Import EPyT-C.\n",
    "- Specify the INP file name of the network to be simulated.\n",
    "- Specify the number of days for which water quality needs to be simulated.\n",
    "- Specify the time step in seconds for water quality simulation.\n",
    "- Add water quality parameter input values for the source nodes.\n",
    "- Specify a random pattern for water quality input values for the source\n",
    "nodes over time.\n",
    "- Specify the range (%) of random variations in the water quality values for\n",
    "the source nodes over time.\n",
    "- Run EPyT-C for water quality analysis.\n",
    "\n",
    "The results are saved as .XLSX files by default."
   ]
  },
  {
   "cell_type": "code",
   "execution_count": 1,
   "id": "900ddcc8",
   "metadata": {},
   "outputs": [],
   "source": [
    "# Importing EPyT-C\n",
    "import os\n",
    "from epyt_c.main_epytc import create_epytc, execute_epytc"
   ]
  },
  {
   "cell_type": "code",
   "execution_count": 2,
   "id": "0a490f42",
   "metadata": {},
   "outputs": [
    {
     "name": "stdout",
     "output_type": "stream",
     "text": [
      "Creating instance of EPyT-C with default values\n"
     ]
    }
   ],
   "source": [
    "# create an epytc_class instace\n",
    "epytc = create_epytc()"
   ]
  },
  {
   "cell_type": "code",
   "execution_count": 3,
   "id": "ce197898",
   "metadata": {},
   "outputs": [],
   "source": [
    "# Enter the full path to the INP file below after 'r'\n",
    "path_name = r\"C:\\Users\\Abhijith\\Documents\\GitHub\\EPyT-C\\Networks\\Net3.inp\"\n",
    "epytc.network_name = os.path.normpath(path_name)"
   ]
  },
  {
   "cell_type": "code",
   "execution_count": 4,
   "id": "6d520a88",
   "metadata": {},
   "outputs": [],
   "source": [
    "# Specify the simulation period (days)\n",
    "epytc.simulation_period_days = 10"
   ]
  },
  {
   "cell_type": "code",
   "execution_count": 5,
   "id": "12608318",
   "metadata": {},
   "outputs": [],
   "source": [
    "# Specify the simulation time step (seconds)\n",
    "epytc.simulation_time_step = 300"
   ]
  },
  {
   "cell_type": "code",
   "execution_count": 6,
   "id": "3039357e",
   "metadata": {},
   "outputs": [],
   "source": [
    "# Add water quality at the source nodes\n",
    "epytc.reservoir_quality_matrix = [[1, 2, 40], [1, 2, 40]]"
   ]
  },
  {
   "cell_type": "markdown",
   "id": "372d49a5",
   "metadata": {},
   "source": [
    "By default, no variation is specified for water quality values for the\n",
    "source nodes over time.\n",
    "To specify random variations over time, use the following code:"
   ]
  },
  {
   "cell_type": "code",
   "execution_count": 7,
   "id": "bd615dc3",
   "metadata": {},
   "outputs": [],
   "source": [
    "epytc.reservoir_injection_pattern = \"rand\""
   ]
  },
  {
   "cell_type": "markdown",
   "id": "37a01baa",
   "metadata": {},
   "source": [
    "Random variations to the water water quality values for the source nodes\n",
    "over time has been now specified."
   ]
  },
  {
   "cell_type": "markdown",
   "id": "ba02bcd1",
   "metadata": {},
   "source": [
    "The defualt range (%) of variations specified for water quality values for\n",
    "the source nodes over time is 0.\n",
    "To specify a value for the range, use the following code:"
   ]
  },
  {
   "cell_type": "code",
   "execution_count": 8,
   "id": "8e23830f",
   "metadata": {},
   "outputs": [],
   "source": [
    "epytc.reservoir_injection_pattern_random_variability = 0.1"
   ]
  },
  {
   "cell_type": "markdown",
   "id": "54ae7785",
   "metadata": {},
   "source": [
    "+/-10% random variations to the water water quality values for the source\n",
    "nodes over time has been now specified."
   ]
  },
  {
   "cell_type": "code",
   "execution_count": 9,
   "id": "1855ee1c",
   "metadata": {},
   "outputs": [
    {
     "name": "stdout",
     "output_type": "stream",
     "text": [
      "EPyT-C loaded for execution...\n",
      "Chlorine decay and trihalomethanes formation module loaded.\n",
      "Reactive species (bulk):\n",
      "Chlorine (mg-Cl/L)\n",
      "TOC (mg-C/L)\n",
      "THMs (ug-THM/L)\n",
      "EPANET version 20200 loaded (EPyT version 1.0.7).\n",
      "Input File Net3.inp loaded successfully.\n",
      "\n",
      "Reservoir 1: River\n",
      "Reservoir 2: Lake\n",
      "Tank 1: 1\n",
      "Tank 2: 2\n",
      "Tank 3: 3\n",
      "Pump 1: 10\n",
      "Pump 2: 335\n",
      "Number of iterations: 1\n",
      "Number of days for which water quality is simulated: 10\n",
      "Time period for water quality simulation: 300 seconds\n",
      "Number of water quality simulation steps: 2881\n",
      "Number of water quality parameters in the MSRT model: 3\n",
      "Number of bulk phase water quality paraneters: 3\n",
      "Number of wall phase water quality paraneters: 0\n",
      "Reservoir quality updated.\n",
      "Injection nodes quality updated.\n",
      "Water quality simulation (Iteration 1) is starting...\n",
      "Hydraulic analysis simulation period: 10 days\n",
      "Time period for hydraulic analysis: 3600 seconds\n",
      "Analysis with EPANET completed...\n",
      "Information successfully stored.\n",
      "Filtering hydraulic analysis report.\n",
      "Water quality simulation started...\n",
      "Water quality simulation step (Iteration 1/ 1): 1 (/ 2881)\n",
      "Water quality simulation step (Iteration 1/ 1): 2 (/ 2881)\n",
      "Water quality simulation step (Iteration 1/ 1): 3 (/ 2881)\n",
      "Water quality simulation step (Iteration 1/ 1): 4 (/ 2881)\n",
      "Water quality simulation step (Iteration 1/ 1): 5 (/ 2881)\n",
      "Water quality simulation step (Iteration 1/ 1): 6 (/ 2881)\n",
      "Water quality simulation step (Iteration 1/ 1): 7 (/ 2881)\n",
      "Water quality simulation step (Iteration 1/ 1): 8 (/ 2881)\n",
      "Water quality simulation step (Iteration 1/ 1): 9 (/ 2881)\n",
      "Water quality simulation step (Iteration 1/ 1): 10 (/ 2881)\n",
      "Water quality simulation step (Iteration 1/ 1): 11 (/ 2881)\n",
      "Water quality simulation step (Iteration 1/ 1): 12 (/ 2881)\n",
      "Water quality simulation step (Iteration 1/ 1): 13 (/ 2881)\n",
      "Water quality simulation step (Iteration 1/ 1): 14 (/ 2881)\n",
      "Water quality simulation step (Iteration 1/ 1): 15 (/ 2881)\n",
      "Water quality simulation step (Iteration 1/ 1): 16 (/ 2881)\n",
      "Water quality simulation step (Iteration 1/ 1): 17 (/ 2881)\n",
      "Water quality simulation step (Iteration 1/ 1): 18 (/ 2881)\n",
      "Water quality simulation step (Iteration 1/ 1): 19 (/ 2881)\n",
      "Water quality simulation step (Iteration 1/ 1): 20 (/ 2881)\n",
      "Water quality simulation step (Iteration 1/ 1): 21 (/ 2881)\n",
      "Water quality simulation step (Iteration 1/ 1): 22 (/ 2881)\n",
      "Water quality simulation step (Iteration 1/ 1): 23 (/ 2881)\n",
      "Water quality simulation step (Iteration 1/ 1): 24 (/ 2881)\n",
      "Water quality simulation step (Iteration 1/ 1): 25 (/ 2881)\n",
      "Water quality simulation step (Iteration 1/ 1): 26 (/ 2881)\n",
      "Water quality simulation step (Iteration 1/ 1): 27 (/ 2881)\n",
      "Water quality simulation step (Iteration 1/ 1): 28 (/ 2881)\n",
      "Water quality simulation step (Iteration 1/ 1): 29 (/ 2881)\n",
      "Water quality simulation step (Iteration 1/ 1): 30 (/ 2881)\n",
      "Water quality simulation step (Iteration 1/ 1): 31 (/ 2881)\n",
      "Water quality simulation step (Iteration 1/ 1): 32 (/ 2881)\n",
      "Water quality simulation step (Iteration 1/ 1): 33 (/ 2881)\n",
      "Water quality simulation step (Iteration 1/ 1): 34 (/ 2881)\n",
      "Water quality simulation step (Iteration 1/ 1): 35 (/ 2881)\n",
      "Water quality simulation step (Iteration 1/ 1): 36 (/ 2881)\n",
      "Water quality simulation step (Iteration 1/ 1): 37 (/ 2881)\n",
      "Water quality simulation step (Iteration 1/ 1): 38 (/ 2881)\n",
      "Water quality simulation step (Iteration 1/ 1): 39 (/ 2881)\n",
      "Water quality simulation step (Iteration 1/ 1): 40 (/ 2881)\n",
      "Water quality simulation step (Iteration 1/ 1): 41 (/ 2881)\n",
      "Water quality simulation step (Iteration 1/ 1): 42 (/ 2881)\n",
      "Water quality simulation step (Iteration 1/ 1): 43 (/ 2881)\n",
      "Water quality simulation step (Iteration 1/ 1): 44 (/ 2881)\n",
      "Water quality simulation step (Iteration 1/ 1): 45 (/ 2881)\n",
      "Water quality simulation step (Iteration 1/ 1): 46 (/ 2881)\n",
      "Water quality simulation step (Iteration 1/ 1): 47 (/ 2881)\n",
      "Water quality simulation step (Iteration 1/ 1): 48 (/ 2881)\n",
      "Water quality simulation step (Iteration 1/ 1): 49 (/ 2881)\n",
      "Water quality simulation step (Iteration 1/ 1): 50 (/ 2881)\n",
      "Water quality simulation step (Iteration 1/ 1): 51 (/ 2881)\n",
      "Water quality simulation step (Iteration 1/ 1): 52 (/ 2881)\n"
     ]
    },
    {
     "ename": "KeyboardInterrupt",
     "evalue": "",
     "output_type": "error",
     "traceback": [
      "\u001b[1;31m---------------------------------------------------------------------------\u001b[0m",
      "\u001b[1;31mKeyboardInterrupt\u001b[0m                         Traceback (most recent call last)",
      "Cell \u001b[1;32mIn[9], line 2\u001b[0m\n\u001b[0;32m      1\u001b[0m \u001b[38;5;66;03m# Executing EPyT-C\u001b[39;00m\n\u001b[1;32m----> 2\u001b[0m \u001b[43mexecute_epytc\u001b[49m\u001b[43m(\u001b[49m\u001b[43mepytc\u001b[49m\u001b[43m)\u001b[49m\n",
      "File \u001b[1;32m~\\Documents\\GitHub\\EPyT-C\\epyt_c\\main_epytc.py:47\u001b[0m, in \u001b[0;36mexecute_epytc\u001b[1;34m(epytc)\u001b[0m\n\u001b[0;32m     45\u001b[0m \u001b[38;5;28;01mdef\u001b[39;00m \u001b[38;5;21mexecute_epytc\u001b[39m(epytc: epytc_class):\n\u001b[0;32m     46\u001b[0m     \u001b[38;5;28mprint\u001b[39m(\u001b[38;5;124m\"\u001b[39m\u001b[38;5;124mEPyT-C loaded for execution...\u001b[39m\u001b[38;5;124m\"\u001b[39m)\n\u001b[1;32m---> 47\u001b[0m     \u001b[43mrun_epytc\u001b[49m\u001b[43m(\u001b[49m\u001b[43mepytc\u001b[49m\u001b[43m)\u001b[49m\n",
      "File \u001b[1;32m~\\Documents\\GitHub\\EPyT-C\\epyt_c\\run_epyt_c.py:631\u001b[0m, in \u001b[0;36mrun_epytc\u001b[1;34m(epytc)\u001b[0m\n\u001b[0;32m    629\u001b[0m         exit()\n\u001b[0;32m    630\u001b[0m     link_conc_array \u001b[38;5;241m=\u001b[39m copy\u001b[38;5;241m.\u001b[39mdeepcopy(link_conc_array_a)\n\u001b[1;32m--> 631\u001b[0m     node_conc_array \u001b[38;5;241m=\u001b[39m \u001b[43mcopy\u001b[49m\u001b[38;5;241;43m.\u001b[39;49m\u001b[43mdeepcopy\u001b[49m\u001b[43m(\u001b[49m\u001b[43mnode_conc_array_a\u001b[49m\u001b[43m)\u001b[49m\n\u001b[0;32m    632\u001b[0m     wq_time \u001b[38;5;241m+\u001b[39m\u001b[38;5;241m=\u001b[39m wq_sim_time_step_s\n\u001b[0;32m    633\u001b[0m \u001b[38;5;28mprint\u001b[39m(\u001b[38;5;124m\"\u001b[39m\u001b[38;5;124mWater quality simulation (Iteration \u001b[39m\u001b[38;5;132;01m%d\u001b[39;00m\u001b[38;5;124m) completed.\u001b[39m\u001b[38;5;124m\"\u001b[39m \u001b[38;5;241m%\u001b[39m (wq_iteration_count))\n",
      "File \u001b[1;32mc:\\Users\\Abhijith\\anaconda3\\envs\\epytc\\Lib\\copy.py:143\u001b[0m, in \u001b[0;36mdeepcopy\u001b[1;34m(x, memo, _nil)\u001b[0m\n\u001b[0;32m    141\u001b[0m copier \u001b[38;5;241m=\u001b[39m \u001b[38;5;28mgetattr\u001b[39m(x, \u001b[38;5;124m\"\u001b[39m\u001b[38;5;124m__deepcopy__\u001b[39m\u001b[38;5;124m\"\u001b[39m, \u001b[38;5;28;01mNone\u001b[39;00m)\n\u001b[0;32m    142\u001b[0m \u001b[38;5;28;01mif\u001b[39;00m copier \u001b[38;5;129;01mis\u001b[39;00m \u001b[38;5;129;01mnot\u001b[39;00m \u001b[38;5;28;01mNone\u001b[39;00m:\n\u001b[1;32m--> 143\u001b[0m     y \u001b[38;5;241m=\u001b[39m \u001b[43mcopier\u001b[49m\u001b[43m(\u001b[49m\u001b[43mmemo\u001b[49m\u001b[43m)\u001b[49m\n\u001b[0;32m    144\u001b[0m \u001b[38;5;28;01melse\u001b[39;00m:\n\u001b[0;32m    145\u001b[0m     reductor \u001b[38;5;241m=\u001b[39m dispatch_table\u001b[38;5;241m.\u001b[39mget(\u001b[38;5;28mcls\u001b[39m)\n",
      "\u001b[1;31mKeyboardInterrupt\u001b[0m: "
     ]
    }
   ],
   "source": [
    "# Executing EPyT-C\n",
    "execute_epytc(epytc)"
   ]
  }
 ],
 "metadata": {
  "jupytext": {
   "cell_metadata_filter": "-all",
   "main_language": "python",
   "notebook_metadata_filter": "-all"
  },
  "kernelspec": {
   "display_name": "Python 3 (ipykernel)",
   "language": "python",
   "name": "python3"
  },
  "language_info": {
   "codemirror_mode": {
    "name": "ipython",
    "version": 3
   },
   "file_extension": ".py",
   "mimetype": "text/x-python",
   "name": "python",
   "nbconvert_exporter": "python",
   "pygments_lexer": "ipython3",
   "version": "3.12.1"
  }
 },
 "nbformat": 4,
 "nbformat_minor": 5
}
