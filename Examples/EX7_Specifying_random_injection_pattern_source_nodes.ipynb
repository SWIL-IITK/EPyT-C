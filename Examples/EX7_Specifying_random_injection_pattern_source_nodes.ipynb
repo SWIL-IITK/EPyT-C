{
 "cells": [
  {
   "cell_type": "markdown",
   "id": "63950e95",
   "metadata": {},
   "source": [
    "This example contains:\n",
    "- Import EPyT-C.\n",
    "- Specify the INP file name of the network to be simulated.\n",
    "- Specify the number of days for which water quality needs to be simulated.\n",
    "- Specify the time step in seconds for water quality simulation.\n",
    "- Add water quality parameter input values for the source nodes.\n",
    "- Specify a random pattern for water quality input values for the source\n",
    "nodes over time.\n",
    "- Specify the range (%) of random variations in the water quality values for\n",
    "the source nodes over time.\n",
    "- Run EPyT-C for water quality analysis.\n",
    "\n",
    "The results are saved as .XLSX files by default."
   ]
  },
  {
   "cell_type": "code",
   "execution_count": null,
   "id": "900ddcc8",
   "metadata": {},
   "outputs": [],
   "source": [
    "# Importing EPyT-C\n",
    "from epyt_c.main_epytc import create_epytc, execute_epytc\n",
    "import os"
   ]
  },
  {
   "cell_type": "code",
   "execution_count": null,
   "id": "0a490f42",
   "metadata": {},
   "outputs": [],
   "source": [
    "# create an epytc_class instace\n",
    "epytc = create_epytc()"
   ]
  },
  {
   "cell_type": "code",
   "execution_count": null,
   "id": "ce197898",
   "metadata": {},
   "outputs": [],
   "source": [
    "# Specify the network name\n",
    "epytc.network_name = os.path.join(os.getcwd(), \"..\", \"epyt_c\", \"Networks\", \"Net3.inp\")"
   ]
  },
  {
   "cell_type": "code",
   "execution_count": null,
   "id": "6d520a88",
   "metadata": {},
   "outputs": [],
   "source": [
    "# Specify the simulation period (days)\n",
    "epytc.simulation_period_days = 10"
   ]
  },
  {
   "cell_type": "code",
   "execution_count": null,
   "id": "12608318",
   "metadata": {},
   "outputs": [],
   "source": [
    "# Specify the simulation time step (seconds)\n",
    "epytc.simulation_time_step = 300"
   ]
  },
  {
   "cell_type": "code",
   "execution_count": null,
   "id": "3039357e",
   "metadata": {},
   "outputs": [],
   "source": [
    "# Add water quality at the source nodes\n",
    "epytc.reservoir_quality_matrix = [[1, 2, 40], [1, 2, 40]]"
   ]
  },
  {
   "cell_type": "markdown",
   "id": "372d49a5",
   "metadata": {},
   "source": [
    "By default, no variation is specified for water quality values for the\n",
    "source nodes over time.\n",
    "To specify random variations over time, use the following code:"
   ]
  },
  {
   "cell_type": "code",
   "execution_count": null,
   "id": "bd615dc3",
   "metadata": {},
   "outputs": [],
   "source": [
    "epytc.reservoir_injection_pattern = \"rand\""
   ]
  },
  {
   "cell_type": "markdown",
   "id": "37a01baa",
   "metadata": {},
   "source": [
    "Random variations to the water water quality values for the source nodes\n",
    "over time has been now specified."
   ]
  },
  {
   "cell_type": "markdown",
   "id": "ba02bcd1",
   "metadata": {},
   "source": [
    "The defualt range (%) of variations specified for water quality values for\n",
    "the source nodes over time is 0.\n",
    "To specify a value for the range, use the following code:"
   ]
  },
  {
   "cell_type": "code",
   "execution_count": null,
   "id": "8e23830f",
   "metadata": {},
   "outputs": [],
   "source": [
    "epytc.reservoir_injection_pattern_random_variability = 0.1"
   ]
  },
  {
   "cell_type": "markdown",
   "id": "54ae7785",
   "metadata": {},
   "source": [
    "+/-10% random variations to the water water quality values for the source\n",
    "nodes over time has been now specified."
   ]
  },
  {
   "cell_type": "code",
   "execution_count": null,
   "id": "1855ee1c",
   "metadata": {},
   "outputs": [],
   "source": [
    "# Executing EPyT-C\n",
    "execute_epytc(epytc)"
   ]
  }
 ],
 "metadata": {
  "jupytext": {
   "cell_metadata_filter": "-all",
   "main_language": "python",
   "notebook_metadata_filter": "-all"
  },
  "language_info": {
   "name": "python"
  }
 },
 "nbformat": 4,
 "nbformat_minor": 5
}
