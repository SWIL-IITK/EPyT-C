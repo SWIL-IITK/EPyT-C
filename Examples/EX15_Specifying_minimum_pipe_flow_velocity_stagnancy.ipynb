{
 "cells": [
  {
   "cell_type": "markdown",
   "id": "47b3f63e",
   "metadata": {},
   "source": [
    "This example contains:\n",
    "- Import EPyT-C.\n",
    "- Add water quality parameter input values for the source nodes.\n",
    "- Specify the minimum velocity (m/s) for stagnancy.\n",
    "- Specify the type of hydraulic analysis data to be used for water quality\n",
    "simulation.\n",
    "- Run EPyT-C for water quality analysis.\n",
    "\n",
    "The results are saved as .XLSX files by default."
   ]
  },
  {
   "cell_type": "code",
   "execution_count": null,
   "id": "fc2608c9",
   "metadata": {},
   "outputs": [],
   "source": [
    "# Importing EPyT-C\n",
    "from epyt_c.main_epytc import create_epytc, execute_epytc"
   ]
  },
  {
   "cell_type": "code",
   "execution_count": null,
   "id": "815ca44f",
   "metadata": {},
   "outputs": [],
   "source": [
    "# create an epytc_class instace\n",
    "epytc = create_epytc()"
   ]
  },
  {
   "cell_type": "code",
   "execution_count": null,
   "id": "02985174",
   "metadata": {},
   "outputs": [],
   "source": [
    "# Specify the simulation period (days)\n",
    "epytc.simulation_period_days = 10"
   ]
  },
  {
   "cell_type": "code",
   "execution_count": null,
   "id": "196be811",
   "metadata": {},
   "outputs": [],
   "source": [
    "# Add water quality at the source nodes\n",
    "epytc.reservoir_quality_matrix = [[1, 2, 40], [1, 2, 40]]"
   ]
  },
  {
   "cell_type": "markdown",
   "id": "8f9e2e77",
   "metadata": {},
   "source": [
    "EPyT-C considers a minimum velocity value for pipes, below which the flow is\n",
    "assumed as stagnant. By default, this value is assumed as 1e-4 m/s. To change\n",
    "this value, the following code can be used:"
   ]
  },
  {
   "cell_type": "code",
   "execution_count": null,
   "id": "23b84e63",
   "metadata": {},
   "outputs": [],
   "source": [
    "epytc.minimum_pipe_flow_velcoity = 1e-2"
   ]
  },
  {
   "cell_type": "markdown",
   "id": "70b06af2",
   "metadata": {},
   "source": [
    "The minimum pipe flow velocity considered for stagnancy is now increased\n",
    "to 1e-2 m/s. It may be noted that this affects the accuracy of the water\n",
    "quality model predictions."
   ]
  },
  {
   "cell_type": "code",
   "execution_count": null,
   "id": "661503df",
   "metadata": {},
   "outputs": [],
   "source": [
    "# Executing EPyT-C\n",
    "execute_epytc(epytc)"
   ]
  }
 ],
 "metadata": {
  "jupytext": {
   "cell_metadata_filter": "-all",
   "main_language": "python",
   "notebook_metadata_filter": "-all"
  },
  "language_info": {
   "name": "python"
  }
 },
 "nbformat": 4,
 "nbformat_minor": 5
}
