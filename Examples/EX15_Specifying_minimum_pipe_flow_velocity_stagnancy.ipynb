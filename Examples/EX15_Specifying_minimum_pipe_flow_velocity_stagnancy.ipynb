{
 "cells": [
  {
   "cell_type": "markdown",
   "id": "47b3f63e",
   "metadata": {},
   "source": [
    "This example contains:\n",
    "- Import EPyT-C.\n",
    "- Add water quality parameter input values for the source nodes.\n",
    "- Specify the minimum velocity (m/s) for stagnancy.\n",
    "- Specify the type of hydraulic analysis data to be used for water quality\n",
    "simulation.\n",
    "- Run EPyT-C for water quality analysis.\n",
    "\n",
    "The results are saved as .XLSX files by default."
   ]
  },
  {
   "cell_type": "code",
   "execution_count": 1,
   "id": "fc2608c9",
   "metadata": {},
   "outputs": [],
   "source": [
    "# Importing EPyT-C\n",
    "import os\n",
    "from epyt_c.main_epytc import create_epytc, execute_epytc"
   ]
  },
  {
   "cell_type": "code",
   "execution_count": 2,
   "id": "815ca44f",
   "metadata": {},
   "outputs": [
    {
     "name": "stdout",
     "output_type": "stream",
     "text": [
      "Creating instance of EPyT-C with default values\n"
     ]
    }
   ],
   "source": [
    "# create an epytc_class instace\n",
    "epytc = create_epytc()"
   ]
  },
  {
   "cell_type": "code",
   "execution_count": 3,
   "id": "916c8a2b-3ba4-4c9f-816a-51b04b2af45c",
   "metadata": {},
   "outputs": [],
   "source": [
    "# Enter the full path to the INP file below after 'r'\n",
    "path_name = r\"C:\\Users\\Abhijith\\Documents\\GitHub\\EPyT-C\\Networks\\Net3.inp\"\n",
    "epytc.network_name = os.path.normpath(path_name)"
   ]
  },
  {
   "cell_type": "code",
   "execution_count": 4,
   "id": "02985174",
   "metadata": {},
   "outputs": [],
   "source": [
    "# Specify the simulation period (days)\n",
    "epytc.simulation_period_days = 10"
   ]
  },
  {
   "cell_type": "code",
   "execution_count": 5,
   "id": "196be811",
   "metadata": {},
   "outputs": [],
   "source": [
    "# Add water quality at the source nodes\n",
    "epytc.reservoir_quality_matrix = [[1, 2, 40], [1, 2, 40]]"
   ]
  },
  {
   "cell_type": "markdown",
   "id": "8f9e2e77",
   "metadata": {},
   "source": [
    "EPyT-C considers a minimum velocity value for pipes, below which the flow is\n",
    "assumed as stagnant. By default, this value is assumed as 1e-4 m/s. To change\n",
    "this value, the following code can be used:"
   ]
  },
  {
   "cell_type": "code",
   "execution_count": 6,
   "id": "23b84e63",
   "metadata": {},
   "outputs": [],
   "source": [
    "epytc.minimum_pipe_flow_velcoity = 1e-2"
   ]
  },
  {
   "cell_type": "markdown",
   "id": "70b06af2",
   "metadata": {},
   "source": [
    "The minimum pipe flow velocity considered for stagnancy is now increased\n",
    "to 1e-2 m/s. It may be noted that this affects the accuracy of the water\n",
    "quality model predictions."
   ]
  },
  {
   "cell_type": "code",
   "execution_count": 7,
   "id": "661503df",
   "metadata": {},
   "outputs": [
    {
     "name": "stdout",
     "output_type": "stream",
     "text": [
      "EPyT-C loaded for execution...\n",
      "Chlorine decay and trihalomethanes formation module loaded.\n",
      "Reactive species (bulk):\n",
      "Chlorine (mg-Cl/L)\n",
      "TOC (mg-C/L)\n",
      "THMs (ug-THM/L)\n",
      "EPANET version 20200 loaded (EPyT version 1.0.7).\n",
      "Input File Net3.inp loaded successfully.\n",
      "\n",
      "Reservoir 1: River\n",
      "Reservoir 2: Lake\n",
      "Tank 1: 1\n",
      "Tank 2: 2\n",
      "Tank 3: 3\n",
      "Pump 1: 10\n",
      "Pump 2: 335\n",
      "Number of iterations: 1\n",
      "Number of days for which water quality is simulated: 10\n",
      "Time period for water quality simulation: 300 seconds\n",
      "Number of water quality simulation steps: 2881\n",
      "Number of water quality parameters in the MSRT model: 3\n",
      "Number of bulk phase water quality paraneters: 3\n",
      "Number of wall phase water quality paraneters: 0\n",
      "Reservoir quality updated.\n",
      "Injection nodes quality updated.\n",
      "Water quality simulation (Iteration 1) is starting...\n",
      "Hydraulic analysis simulation period: 10 days\n",
      "Time period for hydraulic analysis: 3600 seconds\n",
      "Analysis with EPANET completed...\n",
      "Information successfully stored.\n",
      "Filtering hydraulic analysis report.\n",
      "Water quality simulation started...\n",
      "Water quality simulation step (Iteration 1/ 1): 1 (/ 2881)\n",
      "Water quality simulation step (Iteration 1/ 1): 2 (/ 2881)\n",
      "Water quality simulation step (Iteration 1/ 1): 3 (/ 2881)\n",
      "Water quality simulation step (Iteration 1/ 1): 4 (/ 2881)\n",
      "Water quality simulation step (Iteration 1/ 1): 5 (/ 2881)\n",
      "Water quality simulation step (Iteration 1/ 1): 6 (/ 2881)\n",
      "Water quality simulation step (Iteration 1/ 1): 7 (/ 2881)\n",
      "Water quality simulation step (Iteration 1/ 1): 8 (/ 2881)\n",
      "Water quality simulation step (Iteration 1/ 1): 9 (/ 2881)\n",
      "Water quality simulation step (Iteration 1/ 1): 10 (/ 2881)\n",
      "Water quality simulation step (Iteration 1/ 1): 11 (/ 2881)\n",
      "Water quality simulation step (Iteration 1/ 1): 12 (/ 2881)\n",
      "Water quality simulation step (Iteration 1/ 1): 13 (/ 2881)\n",
      "Water quality simulation step (Iteration 1/ 1): 14 (/ 2881)\n",
      "Water quality simulation step (Iteration 1/ 1): 15 (/ 2881)\n",
      "Water quality simulation step (Iteration 1/ 1): 16 (/ 2881)\n",
      "Water quality simulation step (Iteration 1/ 1): 17 (/ 2881)\n",
      "Water quality simulation step (Iteration 1/ 1): 18 (/ 2881)\n"
     ]
    },
    {
     "ename": "KeyboardInterrupt",
     "evalue": "",
     "output_type": "error",
     "traceback": [
      "\u001b[1;31m---------------------------------------------------------------------------\u001b[0m",
      "\u001b[1;31mKeyboardInterrupt\u001b[0m                         Traceback (most recent call last)",
      "Cell \u001b[1;32mIn[7], line 2\u001b[0m\n\u001b[0;32m      1\u001b[0m \u001b[38;5;66;03m# Executing EPyT-C\u001b[39;00m\n\u001b[1;32m----> 2\u001b[0m \u001b[43mexecute_epytc\u001b[49m\u001b[43m(\u001b[49m\u001b[43mepytc\u001b[49m\u001b[43m)\u001b[49m\n",
      "File \u001b[1;32m~\\Documents\\GitHub\\EPyT-C\\epyt_c\\main_epytc.py:47\u001b[0m, in \u001b[0;36mexecute_epytc\u001b[1;34m(epytc)\u001b[0m\n\u001b[0;32m     45\u001b[0m \u001b[38;5;28;01mdef\u001b[39;00m \u001b[38;5;21mexecute_epytc\u001b[39m(epytc: epytc_class):\n\u001b[0;32m     46\u001b[0m     \u001b[38;5;28mprint\u001b[39m(\u001b[38;5;124m\"\u001b[39m\u001b[38;5;124mEPyT-C loaded for execution...\u001b[39m\u001b[38;5;124m\"\u001b[39m)\n\u001b[1;32m---> 47\u001b[0m     \u001b[43mrun_epytc\u001b[49m\u001b[43m(\u001b[49m\u001b[43mepytc\u001b[49m\u001b[43m)\u001b[49m\n",
      "File \u001b[1;32m~\\Documents\\GitHub\\EPyT-C\\epyt_c\\run_epyt_c.py:411\u001b[0m, in \u001b[0;36mrun_epytc\u001b[1;34m(epytc)\u001b[0m\n\u001b[0;32m    409\u001b[0m                     \u001b[38;5;28;01mfor\u001b[39;00m sp \u001b[38;5;129;01min\u001b[39;00m \u001b[38;5;28mrange\u001b[39m(wq_parameter_num):\n\u001b[0;32m    410\u001b[0m                         link_conc_array_a[sp][i][p] \u001b[38;5;241m=\u001b[39m link_conc_array_a[sp][i][p] \u001b[38;5;241m+\u001b[39m delta[sp]\n\u001b[1;32m--> 411\u001b[0m             link_conc_array_a[link_conc_array_a \u001b[38;5;241m<\u001b[39m \u001b[38;5;241m0\u001b[39m] \u001b[38;5;241m=\u001b[39m \u001b[38;5;241m0\u001b[39m\n\u001b[0;32m    412\u001b[0m \u001b[38;5;28;01mif\u001b[39;00m count_links_lagrangian \u001b[38;5;241m!=\u001b[39m (num_links \u001b[38;5;241m-\u001b[39m num_omitted_links):\n\u001b[0;32m    413\u001b[0m     \u001b[38;5;28mprint\u001b[39m(\u001b[38;5;124m\"\u001b[39m\u001b[38;5;124mError in Lagrangian stage dedicated to pipes!\u001b[39m\u001b[38;5;124m\"\u001b[39m)\n",
      "\u001b[1;31mKeyboardInterrupt\u001b[0m: "
     ]
    }
   ],
   "source": [
    "# Executing EPyT-C\n",
    "execute_epytc(epytc)"
   ]
  }
 ],
 "metadata": {
  "jupytext": {
   "cell_metadata_filter": "-all",
   "main_language": "python",
   "notebook_metadata_filter": "-all"
  },
  "kernelspec": {
   "display_name": "Python 3 (ipykernel)",
   "language": "python",
   "name": "python3"
  },
  "language_info": {
   "codemirror_mode": {
    "name": "ipython",
    "version": 3
   },
   "file_extension": ".py",
   "mimetype": "text/x-python",
   "name": "python",
   "nbconvert_exporter": "python",
   "pygments_lexer": "ipython3",
   "version": "3.12.1"
  }
 },
 "nbformat": 4,
 "nbformat_minor": 5
}
