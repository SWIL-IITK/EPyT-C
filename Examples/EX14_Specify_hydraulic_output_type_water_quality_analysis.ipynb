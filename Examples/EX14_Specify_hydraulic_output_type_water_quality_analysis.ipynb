{
 "cells": [
  {
   "cell_type": "markdown",
   "id": "62259f1a",
   "metadata": {},
   "source": [
    "This example contains:\n",
    "- Import EPyT-C.\n",
    "- Add water quality parameter input values for the source nodes.\n",
    "- Specify the type of hydraulic analysis data to be used for water quality\n",
    "simulation.\n",
    "- Run EPyT-C for water quality analysis.\n",
    "\n",
    "The results are saved as .XLSX files by default."
   ]
  },
  {
   "cell_type": "code",
   "execution_count": null,
   "id": "2ae7333c",
   "metadata": {},
   "outputs": [],
   "source": [
    "# Importing EPyT-C\n",
    "from epyt_c.main_epytc import create_epytc, execute_epytc"
   ]
  },
  {
   "cell_type": "code",
   "execution_count": null,
   "id": "5aca8c7b",
   "metadata": {},
   "outputs": [],
   "source": [
    "# create an epytc_class instace\n",
    "epytc = create_epytc()"
   ]
  },
  {
   "cell_type": "code",
   "execution_count": null,
   "id": "2c8fa7d5",
   "metadata": {},
   "outputs": [],
   "source": [
    "# Specify the simulation period (days)\n",
    "epytc.simulation_period_days = 10"
   ]
  },
  {
   "cell_type": "code",
   "execution_count": null,
   "id": "f413c27f",
   "metadata": {},
   "outputs": [],
   "source": [
    "# Add water quality at the source nodes\n",
    "epytc.reservoir_quality_matrix = [[1, 2, 40], [1, 2, 40]]"
   ]
  },
  {
   "cell_type": "markdown",
   "id": "85110eef",
   "metadata": {},
   "source": [
    "EPyT-C performs the hydraulic simulation first for a simulation\n",
    "period greater (if specified) than or equal to the water quality simulation\n",
    "perid. By default, the hydraulic analysis output corresponding to the last base\n",
    "time cycle (converged results) are then applied for water quality simulation.\n",
    "If this needs to be bypassed, the following code can be used:"
   ]
  },
  {
   "cell_type": "code",
   "execution_count": null,
   "id": "1c6f50af",
   "metadata": {},
   "outputs": [],
   "source": [
    "epytc.hyd_wq_sync_option = \"dynamic\""
   ]
  },
  {
   "cell_type": "code",
   "execution_count": null,
   "id": "8ea75dc4",
   "metadata": {},
   "outputs": [],
   "source": [
    "# Executing EPyT-C\n",
    "execute_epytc(epytc)"
   ]
  }
 ],
 "metadata": {
  "jupytext": {
   "cell_metadata_filter": "-all",
   "main_language": "python",
   "notebook_metadata_filter": "-all"
  },
  "language_info": {
   "name": "python"
  }
 },
 "nbformat": 4,
 "nbformat_minor": 5
}
